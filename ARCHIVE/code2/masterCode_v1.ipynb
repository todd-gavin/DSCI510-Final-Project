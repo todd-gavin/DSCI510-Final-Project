{
 "cells": [
  {
   "attachments": {},
   "cell_type": "markdown",
   "metadata": {},
   "source": [
    "# 1. Import Libraries"
   ]
  },
  {
   "cell_type": "code",
   "execution_count": 1,
   "metadata": {},
   "outputs": [],
   "source": [
    "from Historic_Crypto import HistoricalData as HD\n",
    "import pandas as pd\n",
    "import requests\n",
    "import json\n",
    "import time\n",
    "from datetime import datetime\n",
    "import matplotlib.pyplot as plt\n",
    "import scipy\n",
    "import textwrap\n",
    "import seaborn as sns\n",
    "\n",
    "import scipy.stats\n",
    "import numpy as np\n",
    "from statistics import median, mean"
   ]
  },
  {
   "attachments": {},
   "cell_type": "markdown",
   "metadata": {},
   "source": [
    "# `***** DATA COLLECTION *****`"
   ]
  },
  {
   "attachments": {},
   "cell_type": "markdown",
   "metadata": {},
   "source": [
    "# 2. Collect Crypto Wallet Transactions Data using Etherscan API"
   ]
  },
  {
   "cell_type": "code",
   "execution_count": 2,
   "metadata": {},
   "outputs": [],
   "source": [
    "def etherScanAPICall(wallet_address):\n",
    "    API_KEY = 'JATAZ8XWIBGBTY15YJJEABCDPIF8SCK7S3'\n",
    "    MATIC_CONTRACT_ADDRESS = '0x7D1AfA7B718fb893dB30A3aBc0Cfc608AaCfeBB0'\n",
    "    # WALLET_ADDRESS = '0x9507c04b10486547584c37bcbd931b2a4fee9a41'\n",
    "    url = 'https://api.etherscan.io/api?'\n",
    "\n",
    "    parameters = {\n",
    "        'module':'account',\n",
    "        'action':'tokentx',\n",
    "        'contractaddress':MATIC_CONTRACT_ADDRESS,\n",
    "        'address':wallet_address,\n",
    "        'page':'1',\n",
    "        'offset':'10000',\n",
    "        'startblock':'0',\n",
    "        'endblock':'27025780',\n",
    "        'sort':'asc',\n",
    "        'apikey':API_KEY\n",
    "    }\n",
    "\n",
    "    responseJSON = requests.request(\"GET\", url, params=parameters).json()\n",
    "\n",
    "    print(\"# of Transactions:\",len(responseJSON.get(\"result\")))\n",
    "\n",
    "    # with open(\"transactionsResponse.json\", \"w\") as write_file:\n",
    "    #     json.dump(responseJSON, write_file, indent=4, sort_keys = True)\n",
    "\n",
    "    return responseJSON"
   ]
  },
  {
   "cell_type": "code",
   "execution_count": 3,
   "metadata": {},
   "outputs": [],
   "source": [
    "listOfWallets = [\n",
    "    '0x9507c04b10486547584c37bcbd931b2a4fee9a41',\n",
    "    '0x5666ed92c83af9dab61601c87bf7769ad57103f9',\n",
    "    '0x7d1afa7b718fb893db30a3abc0cfc608aacfebb0',\n",
    "    '0xed28b1c47375cd23aa6428544f4feaeaf3ee4e7b'\n",
    "]"
   ]
  },
  {
   "cell_type": "code",
   "execution_count": 4,
   "metadata": {},
   "outputs": [],
   "source": [
    "def etherScanAPI_MultiWallet_Call(listOfWalletAddresses):\n",
    "\n",
    "    totalTransactionDataList = []\n",
    "\n",
    "    for wallet in listOfWalletAddresses:\n",
    "        walletTransactionData = etherScanAPICall(wallet)\n",
    "        totalTransactionDataList = totalTransactionDataList + walletTransactionData.get(\"result\")\n",
    "\n",
    "    return totalTransactionDataList"
   ]
  },
  {
   "cell_type": "code",
   "execution_count": 5,
   "metadata": {},
   "outputs": [
    {
     "name": "stdout",
     "output_type": "stream",
     "text": [
      "# of Transactions: 2836\n",
      "# of Transactions: 739\n",
      "# of Transactions: 507\n",
      "# of Transactions: 3\n"
     ]
    }
   ],
   "source": [
    "rawTransactionData = etherScanAPI_MultiWallet_Call(listOfWallets)"
   ]
  },
  {
   "attachments": {},
   "cell_type": "markdown",
   "metadata": {},
   "source": [
    "# 3. Create Initial Dataframe of Transaction Data"
   ]
  },
  {
   "cell_type": "code",
   "execution_count": 6,
   "metadata": {},
   "outputs": [],
   "source": [
    "def createTransactionsData_df(rawTransactionData):\n",
    "\n",
    "    # Create a DataFrame from the list of dictionaries\n",
    "    rawTransactionData_df = pd.DataFrame(rawTransactionData)\n",
    "\n",
    "    rawTransactionData_df = rawTransactionData_df.sort_values(\"timeStamp\")\n",
    "    rawTransactionData_df = rawTransactionData_df.reset_index(drop=True)\n",
    "\n",
    "    rawTransactionData_df = rawTransactionData_df.drop('nonce', axis=1)\n",
    "    rawTransactionData_df = rawTransactionData_df.drop('tokenName', axis=1)\n",
    "    rawTransactionData_df = rawTransactionData_df.drop('tokenDecimal', axis=1)\n",
    "    rawTransactionData_df = rawTransactionData_df.drop('input', axis=1)\n",
    "    rawTransactionData_df = rawTransactionData_df.drop('confirmations', axis=1)\n",
    "    rawTransactionData_df = rawTransactionData_df.drop('transactionIndex', axis=1)\n",
    "    rawTransactionData_df = rawTransactionData_df.drop('blockNumber', axis=1)\n",
    "    rawTransactionData_df = rawTransactionData_df.drop('hash', axis=1)\n",
    "    rawTransactionData_df = rawTransactionData_df.drop('blockHash', axis=1)\n",
    "    rawTransactionData_df = rawTransactionData_df.drop('gasUsed', axis=1)\n",
    "    rawTransactionData_df = rawTransactionData_df.drop('cumulativeGasUsed', axis=1)\n",
    "    rawTransactionData_df = rawTransactionData_df.drop('contractAddress', axis=1)\n",
    "\n",
    "    # Print the names of all the columns in the dataframe\n",
    "    # print(rawTransactionData_df.columns)\n",
    "\n",
    "    return rawTransactionData_df"
   ]
  },
  {
   "cell_type": "code",
   "execution_count": 7,
   "metadata": {},
   "outputs": [],
   "source": [
    "rawTransactionData_df = createTransactionsData_df(rawTransactionData)"
   ]
  },
  {
   "attachments": {},
   "cell_type": "markdown",
   "metadata": {},
   "source": [
    "# 4. Get Start and End Date from Transactions Data"
   ]
  },
  {
   "cell_type": "code",
   "execution_count": 8,
   "metadata": {},
   "outputs": [],
   "source": [
    "def convert_UNIX_to_DateTime(unix):\n",
    "    return datetime.utcfromtimestamp(int(unix)).strftime('%Y-%m-%d %H:%M:%S') # "
   ]
  },
  {
   "cell_type": "code",
   "execution_count": 9,
   "metadata": {},
   "outputs": [],
   "source": [
    "def getStartAndEndDate(rawTransactionData_df):\n",
    "    # Get the first row of the dataframe\n",
    "    startDate_UNIX = rawTransactionData_df.loc[0, \"timeStamp\"]\n",
    "    # Get the last row of the dataframe\n",
    "    endDate_UNIX = rawTransactionData_df.loc[len(rawTransactionData_df.index)-1, \"timeStamp\"]\n",
    "\n",
    "    startDate = str(convert_UNIX_to_DateTime(startDate_UNIX))[0:10]\n",
    "    endDate = str(convert_UNIX_to_DateTime(endDate_UNIX))[0:10]\n",
    "\n",
    "    return startDate, endDate"
   ]
  },
  {
   "cell_type": "code",
   "execution_count": 10,
   "metadata": {},
   "outputs": [],
   "source": [
    "startDate, endDate = getStartAndEndDate(rawTransactionData_df)"
   ]
  },
  {
   "attachments": {},
   "cell_type": "markdown",
   "metadata": {},
   "source": [
    "# 5. Collect Historical Crypto Price Data"
   ]
  },
  {
   "cell_type": "code",
   "execution_count": 11,
   "metadata": {},
   "outputs": [],
   "source": [
    "def getCryptoHistoricalData(token, startDate, endDate):\n",
    "    data = HD(token,86400,startDate+\"-00-00\",endDate+\"-00-00\").retrieve_data()\n",
    "    # data.to_csv('tokenPriceData.csv')\n",
    "    return data"
   ]
  },
  {
   "cell_type": "code",
   "execution_count": 12,
   "metadata": {},
   "outputs": [
    {
     "name": "stdout",
     "output_type": "stream",
     "text": [
      "Checking input parameters are in the correct format.\n",
      "Formatting Dates.\n",
      "Checking if user supplied is available on the CoinBase Pro API.\n",
      "Connected to the CoinBase Pro API.\n",
      "Ticker 'MATIC-USD' found at the CoinBase Pro API, continuing to extraction.\n",
      "Provisional Start: 2019-08-07T00:00:00\n",
      "Provisional End: 2020-06-02T00:00:00\n",
      "Data for chunk 1 of 5 extracted\n",
      "CoinBase Pro API did not have available data for 'MATIC-USD' beginning at 2019-08-07-00-00.  \n",
      "                        Trying a later date:'2019-08-07T00:00:00'\n",
      "Provisional Start: 2020-06-02T00:00:00\n",
      "Provisional End: 2021-03-29T00:00:00\n",
      "Data for chunk 2 of 5 extracted\n",
      "Provisional Start: 2021-03-29T00:00:00\n",
      "Provisional End: 2022-01-23T00:00:00\n"
     ]
    },
    {
     "name": "stderr",
     "output_type": "stream",
     "text": [
      "/Users/toddgavin/opt/anaconda3/lib/python3.9/site-packages/Historic_Crypto/HistoricalData.py:176: FutureWarning: The frame.append method is deprecated and will be removed from pandas in a future version. Use pandas.concat instead.\n",
      "  data = data.append(dataset)\n"
     ]
    },
    {
     "name": "stdout",
     "output_type": "stream",
     "text": [
      "Data for chunk 3 of 5 extracted\n",
      "Provisional Start: 2022-01-23T00:00:00\n",
      "Provisional End: 2022-11-19T00:00:00\n",
      "Data for chunk 4 of 5 extracted\n",
      "Provisional Start: 2022-11-19T00:00:00\n",
      "Provisional End: 2023-09-15T00:00:00\n",
      "Data for chunk 5 of 5 extracted\n"
     ]
    },
    {
     "name": "stderr",
     "output_type": "stream",
     "text": [
      "/Users/toddgavin/opt/anaconda3/lib/python3.9/site-packages/Historic_Crypto/HistoricalData.py:176: FutureWarning: The frame.append method is deprecated and will be removed from pandas in a future version. Use pandas.concat instead.\n",
      "  data = data.append(dataset)\n"
     ]
    }
   ],
   "source": [
    "tokenPriceData_df = getCryptoHistoricalData(\"MATIC-USD\", startDate, endDate)\n",
    "tokenPriceData_df = tokenPriceData_df.reset_index(drop=False)"
   ]
  },
  {
   "attachments": {},
   "cell_type": "markdown",
   "metadata": {},
   "source": [
    "# `***** DATA ORGANIZATION AND MERGING *****`"
   ]
  },
  {
   "attachments": {},
   "cell_type": "markdown",
   "metadata": {},
   "source": [
    "# 6. Add date column to Historical Crypto Dataframe"
   ]
  },
  {
   "cell_type": "code",
   "execution_count": 13,
   "metadata": {},
   "outputs": [],
   "source": [
    "tokenPriceData_df.insert(1, 'date', 0)\n",
    "\n",
    "for index, row in tokenPriceData_df.iterrows():\n",
    "    date = str(row[\"time\"])[0:10]\n",
    "    tokenPriceData_df.loc[index, \"date\"] = date\n",
    "\n",
    "tokenPriceData_df = tokenPriceData_df.drop('time', axis=1)"
   ]
  },
  {
   "attachments": {},
   "cell_type": "markdown",
   "metadata": {},
   "source": [
    "# 7. Orient dates and corresponding data across Historical Crypto Data and Transactions Data"
   ]
  },
  {
   "cell_type": "code",
   "execution_count": 14,
   "metadata": {},
   "outputs": [
    {
     "name": "stdout",
     "output_type": "stream",
     "text": [
      "2019-08-07 00:00:00\n",
      "2019-08-07 00:00:00 1565161200.0\n",
      "2022-12-14\n"
     ]
    }
   ],
   "source": [
    "startDate2 = str(tokenPriceData_df.loc[0, \"date\"]) + \" 00:00:00\"\n",
    "# print(startDate2)\n",
    "\n",
    "# Define a format string for the date and time\n",
    "date_time_fmt = \"%Y-%m-%d %H:%M:%S\"\n",
    "# Convert the string to a datetime object\n",
    "startDate2 = datetime.strptime(startDate2, date_time_fmt)\n",
    "\n",
    "# Print the datetime object\n",
    "# print(startDate2)\n",
    "\n",
    "# convert the datetime object into a Unix timestamp\n",
    "startDate2_UNIX = time.mktime(startDate2.timetuple())\n",
    "\n",
    "# print(startDate_UNIX)\n",
    "# print(startDate2_UNIX)\n",
    "\n",
    "startDate = str(startDate) + \" 00:00:00\"\n",
    "print(startDate)\n",
    "startDate1 = datetime.strptime(startDate, date_time_fmt)\n",
    "startDate1_UNIX = time.mktime(startDate1.timetuple())\n",
    "\n",
    "print(startDate, startDate1_UNIX)\n",
    "\n",
    "# The transactions start date is later than the crypto data start date\n",
    "if int(startDate1_UNIX) > int(startDate2_UNIX):\n",
    "    startDate_main_UNIX = startDate1_UNIX\n",
    "\n",
    "# The transactions start date is earlier than the crypto data start date\n",
    "else:\n",
    "    startDate_main_UNIX = startDate2_UNIX\n",
    "\n",
    "# print the Unix timestamp\n",
    "# print(startDate_main_UNIX)\n",
    "\n",
    "endDate = tokenPriceData_df.loc[len(tokenPriceData_df.index)-1, \"date\"]\n",
    "print(endDate)"
   ]
  },
  {
   "cell_type": "code",
   "execution_count": 15,
   "metadata": {},
   "outputs": [],
   "source": [
    "rawTransactionData_df['timeStamp'] = rawTransactionData_df['timeStamp'].astype(float)"
   ]
  },
  {
   "cell_type": "code",
   "execution_count": 16,
   "metadata": {},
   "outputs": [],
   "source": [
    "rawTransactionData_df = rawTransactionData_df.drop(rawTransactionData_df.index[rawTransactionData_df.loc[:, 'timeStamp'] < startDate_main_UNIX])\n",
    "\n",
    "rawTransactionData_df = rawTransactionData_df.reset_index(drop=True)"
   ]
  },
  {
   "cell_type": "code",
   "execution_count": 17,
   "metadata": {},
   "outputs": [],
   "source": [
    "# Output the DataFrame to a CSV file\n",
    "rawTransactionData_df.to_csv('rawTransactionData_df.csv', index=True)"
   ]
  },
  {
   "attachments": {},
   "cell_type": "markdown",
   "metadata": {},
   "source": [
    "# 8. Add Specified Columns to Transactions Dataframe\n",
    "- date column\n",
    "- buy and sell column\n",
    "- value movement column\n",
    "- total gas cost column"
   ]
  },
  {
   "cell_type": "code",
   "execution_count": 18,
   "metadata": {},
   "outputs": [],
   "source": [
    "# Adding data column\n",
    "rawTransactionData_df.insert(1, 'date', 0)\n",
    "for index, row in rawTransactionData_df.iterrows():\n",
    "    date = convert_UNIX_to_DateTime(row[\"timeStamp\"])[0:10]\n",
    "    rawTransactionData_df.loc[index, \"date\"] = date"
   ]
  },
  {
   "cell_type": "code",
   "execution_count": 19,
   "metadata": {},
   "outputs": [],
   "source": [
    "# Adding valueMovement and tradeType columns\n",
    "rawTransactionData_df.insert(4, 'valueMovement', 0)\n",
    "rawTransactionData_df.insert(5, 'tradeType', 0)\n",
    "\n",
    "for index, row in rawTransactionData_df.iterrows():\n",
    "    tradeType = \"n/a\"\n",
    "    # considered a BUY\n",
    "    if row[\"to\"] in listOfWallets:\n",
    "        valueMovement = int(row[\"value\"])/(10**18)\n",
    "        tradeType = \"BUY\"\n",
    "    # considered a SELL\n",
    "    elif row[\"from\"] in listOfWallets:\n",
    "        valueMovement = -1 * (int(row[\"value\"])/(10**18))\n",
    "        tradeType = \"SELL\"\n",
    "\n",
    "    rawTransactionData_df.loc[index, \"valueMovement\"] = valueMovement\n",
    "    rawTransactionData_df.loc[index, \"tradeType\"] = tradeType\n",
    "\n",
    "rawTransactionData_df = rawTransactionData_df.drop('value', axis=1)"
   ]
  },
  {
   "cell_type": "code",
   "execution_count": 20,
   "metadata": {},
   "outputs": [],
   "source": [
    "# Adding totalGasCost column\n",
    "rawTransactionData_df.insert(9, 'totalGasCost', 0)\n",
    "\n",
    "for index, row in rawTransactionData_df.iterrows():\n",
    "\n",
    "    totalGasCost = int(row['gas']) * int(row['gasPrice'])\n",
    "    rawTransactionData_df.loc[index, \"totalGasCost\"] = totalGasCost"
   ]
  },
  {
   "cell_type": "code",
   "execution_count": 21,
   "metadata": {},
   "outputs": [],
   "source": [
    "# Output the DataFrame to a CSV file\n",
    "rawTransactionData_df.to_csv('rawTransactionData_df.csv', index=True)"
   ]
  },
  {
   "attachments": {},
   "cell_type": "markdown",
   "metadata": {},
   "source": [
    "# 9. Typecast Data in Transactions Datafame"
   ]
  },
  {
   "cell_type": "code",
   "execution_count": 22,
   "metadata": {},
   "outputs": [],
   "source": [
    "# convert the column to dataTypes\n",
    "rawTransactionData_df['date'] = rawTransactionData_df['date'].astype(str)\n",
    "\n",
    "rawTransactionData_df['valueMovement'] = rawTransactionData_df['valueMovement'].astype(int)\n",
    "\n",
    "rawTransactionData_df['gas'] = rawTransactionData_df['gas'].astype(float)\n",
    "\n",
    "rawTransactionData_df['gasPrice'] = rawTransactionData_df['gasPrice'].astype(float)\n",
    "\n",
    "rawTransactionData_df['totalGasCost'] = rawTransactionData_df['totalGasCost'].astype(int)"
   ]
  },
  {
   "attachments": {},
   "cell_type": "markdown",
   "metadata": {},
   "source": [
    "# 10. Add Specified Columns to Transactions Dataframe\n",
    "- MATIC price USD column\n",
    "- total cost USD column\n",
    "- open-close daily column\n",
    "- high-low daily column"
   ]
  },
  {
   "cell_type": "code",
   "execution_count": 23,
   "metadata": {},
   "outputs": [],
   "source": [
    "# Adding priceUSD column\n",
    "rawTransactionData_df.insert(7, 'priceUSD', 0)\n",
    "\n",
    "for index, row in rawTransactionData_df.iterrows():\n",
    "    # print(\"ran...\")\n",
    "    date = rawTransactionData_df.loc[index, \"date\"]\n",
    "    # print(\"date:\", date)\n",
    "    dateRow_df = tokenPriceData_df.loc[tokenPriceData_df['date'] == date]\n",
    "    # print(\"dateRow:\\n\", dateRow_df)\n",
    "    dateRow_df = dateRow_df.reset_index(drop=True)\n",
    "    price = (float(dateRow_df.loc[0, \"open\"]) + float(dateRow_df.loc[0, \"close\"]))/2\n",
    "    # print(\"price:\", price)\n",
    "\n",
    "    rawTransactionData_df.loc[index, \"priceUSD\"] = price"
   ]
  },
  {
   "cell_type": "code",
   "execution_count": 24,
   "metadata": {},
   "outputs": [],
   "source": [
    "# Adding totalCostUSD column\n",
    "rawTransactionData_df.insert(8, 'totalCostUSD', 0)\n",
    "\n",
    "for index, row in rawTransactionData_df.iterrows():\n",
    "\n",
    "    totalCost = float(row[\"valueMovement\"]) * float(row[\"priceUSD\"])\n",
    "    rawTransactionData_df.loc[index, \"totalCostUSD\"] = totalCost"
   ]
  },
  {
   "cell_type": "code",
   "execution_count": 25,
   "metadata": {},
   "outputs": [],
   "source": [
    "# Adding OCdailyPriceMovementUSD and HLdailyPriceMovementUSD scolumn\n",
    "rawTransactionData_df.insert(9, 'OCdailyPriceMovementUSD', 0)\n",
    "rawTransactionData_df.insert(10, 'HLdailyPriceMovementUSD', 0)\n",
    "\n",
    "for index, row in rawTransactionData_df.iterrows():\n",
    "\n",
    "    date = rawTransactionData_df.loc[index, \"date\"]\n",
    "\n",
    "    maticPrice_df = tokenPriceData_df.loc[tokenPriceData_df['date'] == date]\n",
    "    maticPrice_df = maticPrice_df.reset_index(drop=True)\n",
    "\n",
    "    open = maticPrice_df.loc[0, \"open\"]\n",
    "    close = maticPrice_df.loc[0, \"close\"]\n",
    "    high = maticPrice_df.loc[0, \"high\"]\n",
    "    low = maticPrice_df.loc[0, \"low\"]\n",
    "    \n",
    "    OCprice = open - close\n",
    "    HLprice = high - low\n",
    "\n",
    "    rawTransactionData_df.loc[index, \"OCdailyPriceMovementUSD\"] = OCprice\n",
    "    rawTransactionData_df.loc[index, \"HLdailyPriceMovementUSD\"] = HLprice"
   ]
  },
  {
   "cell_type": "code",
   "execution_count": 26,
   "metadata": {},
   "outputs": [],
   "source": [
    "rawTransactionData_df = rawTransactionData_df.sort_values(\"timeStamp\")\n",
    "rawTransactionData_df = rawTransactionData_df.reset_index(drop=True)"
   ]
  },
  {
   "cell_type": "code",
   "execution_count": 27,
   "metadata": {},
   "outputs": [],
   "source": [
    "# Output the DataFrame to a CSV file\n",
    "rawTransactionData_df.to_csv('rawTransactionData_df.csv', index=True)"
   ]
  },
  {
   "attachments": {},
   "cell_type": "markdown",
   "metadata": {},
   "source": [
    "# 11. Create Transactions Volume Dataframe"
   ]
  },
  {
   "cell_type": "code",
   "execution_count": 28,
   "metadata": {},
   "outputs": [
    {
     "name": "stdout",
     "output_type": "stream",
     "text": [
      "644\n",
      "['2021-03-11', '2021-03-12', '2021-03-13', '2021-03-14', '2021-03-15']\n"
     ]
    }
   ],
   "source": [
    "# Columns: -Index, #Date, *Num Transactions, *Value Movement, *Num BUYS, *Num Sells, *MATIC Price USD, -Total Cost USD, *OC daily price, *HL daily price\n",
    "\n",
    "datesList = tokenPriceData_df['date'].to_list()\n",
    "print(len(datesList))\n",
    "print(datesList[0:5])"
   ]
  },
  {
   "cell_type": "code",
   "execution_count": 29,
   "metadata": {},
   "outputs": [],
   "source": [
    "dateToDailyTransactionInfoDict = {}\n",
    "\n",
    "for date in datesList:\n",
    "\n",
    "    transaction_df = rawTransactionData_df.loc[rawTransactionData_df['date'] == date]\n",
    "    transaction_df = transaction_df.reset_index(drop=True)\n",
    "\n",
    "    # print(\"transaction_df\\n\", transaction_df, \"\\nend df...\")\n",
    "\n",
    "    if not transaction_df.empty:\n",
    "\n",
    "        # loop through every row in the DataFrame and print the values\n",
    "        for index, row in transaction_df.iterrows():\n",
    "\n",
    "            valueMoved = row[\"valueMovement\"]\n",
    "            tradeType = row[\"tradeType\"]\n",
    "\n",
    "            if tradeType == \"BUY\":\n",
    "                buy = 1\n",
    "                sell = 0\n",
    "            else: \n",
    "                sell = 1\n",
    "                buy = 0\n",
    "\n",
    "            if date not in dateToDailyTransactionInfoDict.keys():\n",
    "                # print('run if..')\n",
    "                dateToDailyTransactionInfoDict[date] = [1, valueMoved, buy, sell]\n",
    "\n",
    "            # elif date in dateToDailyTransactionInfoDict.keys():\n",
    "            else:\n",
    "                # print('run elif..')\n",
    "                currentTransactionInfo = dateToDailyTransactionInfoDict.get(date)\n",
    "\n",
    "                currentNumTransactions = int(currentTransactionInfo[0]) + 1\n",
    "                currentValueMoved = currentTransactionInfo[1] + valueMoved\n",
    "                currentBuyNum = currentTransactionInfo[2] + buy\n",
    "                currentSellNum = currentTransactionInfo[3] + sell\n",
    "\n",
    "                dateToDailyTransactionInfoDict[date] = [currentNumTransactions, currentValueMoved, currentBuyNum, currentSellNum]\n",
    "\n",
    "            # print(date, dateToDailyTransactionInfoDict.get(date))\n",
    "\n",
    "    else:\n",
    "\n",
    "        dateToDailyTransactionInfoDict[date] = [0, 0, 0, 0]\n",
    "\n",
    "    # print(date, dateToDailyTransactionInfoDict.get(date))"
   ]
  },
  {
   "cell_type": "code",
   "execution_count": 30,
   "metadata": {},
   "outputs": [],
   "source": [
    "# create an empty list to store the lists\n",
    "dateToDailyTransactionInfoList = []\n",
    "\n",
    "# iterate over the dictionary's items and create a new list with the key as the first element and the value as the second element\n",
    "for key, value in dateToDailyTransactionInfoDict.items():\n",
    "    dateToDailyTransactionInfoList.append([key, value[0], value[1], value[2], value[3]])"
   ]
  },
  {
   "cell_type": "code",
   "execution_count": 31,
   "metadata": {},
   "outputs": [],
   "source": [
    "columnNames = [\"date\", \"numTransactions\", \"valueMoved\", \"buyNum\", \"sellNum\"]\n",
    "timeSeriesTransactionData_df = pd.DataFrame(dateToDailyTransactionInfoList, columns=columnNames)"
   ]
  },
  {
   "cell_type": "code",
   "execution_count": 32,
   "metadata": {},
   "outputs": [],
   "source": [
    "# Output the DataFrame to a CSV file\n",
    "timeSeriesTransactionData_df.to_csv('timeSeriesTransactionData_df.csv', index=True)"
   ]
  },
  {
   "cell_type": "code",
   "execution_count": 33,
   "metadata": {},
   "outputs": [],
   "source": [
    "# Output the DataFrame to a CSV file\n",
    "timeSeriesTransactionData_df.to_csv('timeSeriesTransactionData_df.csv', index=True)"
   ]
  },
  {
   "attachments": {},
   "cell_type": "markdown",
   "metadata": {},
   "source": [
    "# `***** DATA ANALYSIS AND VISUALIZATION *****`"
   ]
  },
  {
   "attachments": {},
   "cell_type": "markdown",
   "metadata": {},
   "source": [
    "`scatter plot`\n",
    "- input: two lists of values\n",
    "- output: scatter plot with linear regression line\n",
    "- returns r value and p value"
   ]
  },
  {
   "attachments": {},
   "cell_type": "markdown",
   "metadata": {},
   "source": [
    "`overlapping line graph`\n",
    "- input: two lists of values\n",
    "- output: line graph with overlapping lines in different colors"
   ]
  }
 ],
 "metadata": {
  "kernelspec": {
   "display_name": "base",
   "language": "python",
   "name": "python3"
  },
  "language_info": {
   "codemirror_mode": {
    "name": "ipython",
    "version": 3
   },
   "file_extension": ".py",
   "mimetype": "text/x-python",
   "name": "python",
   "nbconvert_exporter": "python",
   "pygments_lexer": "ipython3",
   "version": "3.9.13"
  },
  "orig_nbformat": 4,
  "vscode": {
   "interpreter": {
    "hash": "e862235458dcc43ce60f6439dfba4578949053168f0a6b8272bc7c7b0264254d"
   }
  }
 },
 "nbformat": 4,
 "nbformat_minor": 2
}
