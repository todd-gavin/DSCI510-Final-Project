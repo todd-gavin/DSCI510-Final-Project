{
 "cells": [
  {
   "attachments": {},
   "cell_type": "markdown",
   "metadata": {},
   "source": [
    "# 1. Import Libraries"
   ]
  },
  {
   "cell_type": "code",
   "execution_count": 1973,
   "metadata": {},
   "outputs": [],
   "source": [
    "from Historic_Crypto import HistoricalData as HD\n",
    "import pandas as pd\n",
    "import requests\n",
    "import json\n",
    "import time\n",
    "from datetime import datetime\n",
    "import matplotlib.pyplot as plt\n",
    "import scipy\n",
    "import textwrap\n",
    "import seaborn as sns\n",
    "\n",
    "import scipy.stats\n",
    "import numpy as np\n",
    "from statistics import median, mean"
   ]
  },
  {
   "attachments": {},
   "cell_type": "markdown",
   "metadata": {},
   "source": [
    "# 2. Etherscan API Call"
   ]
  },
  {
   "cell_type": "code",
   "execution_count": 1974,
   "metadata": {},
   "outputs": [],
   "source": [
    "def etherScanAPICall(wallet_address):\n",
    "    API_KEY = 'JATAZ8XWIBGBTY15YJJEABCDPIF8SCK7S3'\n",
    "    MATIC_CONTRACT_ADDRESS = '0x7D1AfA7B718fb893dB30A3aBc0Cfc608AaCfeBB0'\n",
    "    # WALLET_ADDRESS = '0x9507c04b10486547584c37bcbd931b2a4fee9a41'\n",
    "    url = 'https://api.etherscan.io/api?'\n",
    "\n",
    "    parameters = {\n",
    "        'module':'account',\n",
    "        'action':'tokentx',\n",
    "        'contractaddress':MATIC_CONTRACT_ADDRESS,\n",
    "        'address':wallet_address,\n",
    "        'page':'1',\n",
    "        'offset':'10000',\n",
    "        'startblock':'0',\n",
    "        'endblock':'27025780',\n",
    "        'sort':'asc',\n",
    "        'apikey':API_KEY\n",
    "    }\n",
    "\n",
    "    responseJSON = requests.request(\"GET\", url, params=parameters).json()\n",
    "\n",
    "    print(\"# of Transactions:\",len(responseJSON.get(\"result\")))\n",
    "\n",
    "    # with open(\"transactionsResponse.json\", \"w\") as write_file:\n",
    "    #     json.dump(responseJSON, write_file, indent=4, sort_keys = True)\n",
    "\n",
    "    return responseJSON"
   ]
  },
  {
   "cell_type": "code",
   "execution_count": 1975,
   "metadata": {},
   "outputs": [],
   "source": [
    "listOfWallets = [\n",
    "    '0x9507c04b10486547584c37bcbd931b2a4fee9a41',\n",
    "    '0x5666ed92c83af9dab61601c87bf7769ad57103f9',\n",
    "    '0x7d1afa7b718fb893db30a3abc0cfc608aacfebb0',\n",
    "    '0xed28b1c47375cd23aa6428544f4feaeaf3ee4e7b'\n",
    "]"
   ]
  },
  {
   "cell_type": "code",
   "execution_count": 1976,
   "metadata": {},
   "outputs": [],
   "source": [
    "def etherScanAPI_MultiWallet_Call(listOfWalletAddresses):\n",
    "\n",
    "    totalTransactionDataList = []\n",
    "\n",
    "    for wallet in listOfWalletAddresses:\n",
    "        walletTransactionData = etherScanAPICall(wallet)\n",
    "        totalTransactionDataList = totalTransactionDataList + walletTransactionData.get(\"result\")\n",
    "\n",
    "    return totalTransactionDataList"
   ]
  },
  {
   "cell_type": "code",
   "execution_count": 1977,
   "metadata": {},
   "outputs": [
    {
     "name": "stdout",
     "output_type": "stream",
     "text": [
      "# of Transactions: 2833\n",
      "# of Transactions: 739\n",
      "# of Transactions: 507\n",
      "# of Transactions: 3\n"
     ]
    }
   ],
   "source": [
    "rawTransactionData = etherScanAPI_MultiWallet_Call(listOfWallets)"
   ]
  },
  {
   "attachments": {},
   "cell_type": "markdown",
   "metadata": {},
   "source": [
    "# 3. Create Dataframe of Transaction Data"
   ]
  },
  {
   "cell_type": "code",
   "execution_count": 1978,
   "metadata": {},
   "outputs": [
    {
     "name": "stdout",
     "output_type": "stream",
     "text": [
      "Index(['timeStamp', 'from', 'to', 'value', 'tokenSymbol', 'gas', 'gasPrice'], dtype='object')\n"
     ]
    }
   ],
   "source": [
    "# Create a DataFrame from the list of dictionaries\n",
    "rawTransactionData_df = pd.DataFrame(rawTransactionData)\n",
    "\n",
    "rawTransactionData_df = rawTransactionData_df.sort_values(\"timeStamp\")\n",
    "rawTransactionData_df = rawTransactionData_df.reset_index(drop=True)\n",
    "\n",
    "rawTransactionData_df = rawTransactionData_df.drop('nonce', axis=1)\n",
    "rawTransactionData_df = rawTransactionData_df.drop('tokenName', axis=1)\n",
    "rawTransactionData_df = rawTransactionData_df.drop('tokenDecimal', axis=1)\n",
    "rawTransactionData_df = rawTransactionData_df.drop('input', axis=1)\n",
    "rawTransactionData_df = rawTransactionData_df.drop('confirmations', axis=1)\n",
    "rawTransactionData_df = rawTransactionData_df.drop('transactionIndex', axis=1)\n",
    "rawTransactionData_df = rawTransactionData_df.drop('blockNumber', axis=1)\n",
    "rawTransactionData_df = rawTransactionData_df.drop('hash', axis=1)\n",
    "rawTransactionData_df = rawTransactionData_df.drop('blockHash', axis=1)\n",
    "rawTransactionData_df = rawTransactionData_df.drop('gasUsed', axis=1)\n",
    "rawTransactionData_df = rawTransactionData_df.drop('cumulativeGasUsed', axis=1)\n",
    "rawTransactionData_df = rawTransactionData_df.drop('contractAddress', axis=1)\n",
    "\n",
    "# Print the names of all the columns in the dataframe\n",
    "print(rawTransactionData_df.columns)"
   ]
  },
  {
   "cell_type": "code",
   "execution_count": 1979,
   "metadata": {},
   "outputs": [],
   "source": [
    "# print(rawTransactionData_df.head())\n",
    "# print(rawTransactionData_df.tail())"
   ]
  },
  {
   "cell_type": "code",
   "execution_count": 1980,
   "metadata": {},
   "outputs": [],
   "source": [
    "# print(rawTransactionData_df.head()['timeStamp'])\n",
    "# print(\"*******\")\n",
    "# print(rawTransactionData_df.tail()['timeStamp'])"
   ]
  },
  {
   "attachments": {},
   "cell_type": "markdown",
   "metadata": {},
   "source": [
    "# 4. Add Date Column to Dataframe"
   ]
  },
  {
   "cell_type": "code",
   "execution_count": 1981,
   "metadata": {},
   "outputs": [],
   "source": [
    "def convert_UNIX_to_DateTime(unix):\n",
    "    return datetime.utcfromtimestamp(int(unix)).strftime('%Y-%m-%d %H:%M:%S') # returns type str"
   ]
  },
  {
   "cell_type": "code",
   "execution_count": 1982,
   "metadata": {},
   "outputs": [],
   "source": [
    "rawTransactionData_df.insert(1, 'date', 0)\n",
    "\n",
    "for index, row in rawTransactionData_df.iterrows():\n",
    "    date = convert_UNIX_to_DateTime(row[\"timeStamp\"])[0:10]\n",
    "    rawTransactionData_df.loc[index, \"date\"] = date\n"
   ]
  },
  {
   "cell_type": "code",
   "execution_count": 1983,
   "metadata": {},
   "outputs": [],
   "source": [
    "# print(rawTransactionData_df.head()['date'])\n",
    "# print(\"*******\")\n",
    "# print(rawTransactionData_df.tail()['date'])"
   ]
  },
  {
   "attachments": {},
   "cell_type": "markdown",
   "metadata": {},
   "source": [
    "# 5. Add Buy and Sell Column, Value Movement Column, and Total Gas Price Column"
   ]
  },
  {
   "cell_type": "code",
   "execution_count": 1984,
   "metadata": {},
   "outputs": [],
   "source": [
    "rawTransactionData_df.insert(4, 'valueMovement', 0)\n",
    "rawTransactionData_df.insert(5, 'tradeType', 0)\n",
    "\n",
    "for index, row in rawTransactionData_df.iterrows():\n",
    "    tradeType = \"n/a\"\n",
    "    # considered a BUY\n",
    "    if row[\"to\"] in listOfWallets:\n",
    "        valueMovement = int(row[\"value\"])/(10**18)\n",
    "        tradeType = \"BUY\"\n",
    "    # considered a SELL\n",
    "    elif row[\"from\"] in listOfWallets:\n",
    "        valueMovement = -1 * (int(row[\"value\"])/(10**18))\n",
    "        tradeType = \"SELL\"\n",
    "\n",
    "    rawTransactionData_df.loc[index, \"valueMovement\"] = valueMovement\n",
    "    rawTransactionData_df.loc[index, \"tradeType\"] = tradeType\n",
    "\n",
    "rawTransactionData_df = rawTransactionData_df.drop('value', axis=1)"
   ]
  },
  {
   "cell_type": "code",
   "execution_count": 1985,
   "metadata": {},
   "outputs": [],
   "source": [
    "rawTransactionData_df.insert(9, 'totalGasCost', 0)\n",
    "\n",
    "for index, row in rawTransactionData_df.iterrows():\n",
    "\n",
    "    totalGasCost = int(row['gas']) * int(row['gasPrice'])\n",
    "    rawTransactionData_df.loc[index, \"totalGasCost\"] = totalGasCost"
   ]
  },
  {
   "cell_type": "code",
   "execution_count": 1986,
   "metadata": {},
   "outputs": [],
   "source": [
    "# print(rawTransactionData_df[\"valueMovement\"])\n",
    "# print(\"*******\")\n",
    "# print(rawTransactionData_df[\"tradeType\"])\n",
    "# print(\"*******\")\n",
    "# print(rawTransactionData_df[\"totalGasCost\"])"
   ]
  },
  {
   "cell_type": "code",
   "execution_count": 1987,
   "metadata": {},
   "outputs": [],
   "source": [
    "# Output the DataFrame to a CSV file\n",
    "rawTransactionData_df.to_csv('rawTransactionData_df.csv', index=True)"
   ]
  },
  {
   "attachments": {},
   "cell_type": "markdown",
   "metadata": {},
   "source": [
    "# Typecast Dataframe Data"
   ]
  },
  {
   "cell_type": "code",
   "execution_count": 1988,
   "metadata": {},
   "outputs": [],
   "source": [
    "# convert the column to floats\n",
    "rawTransactionData_df['timeStamp'] = rawTransactionData_df['timeStamp'].astype(float)\n",
    "rawTransactionData_df['gas'] = rawTransactionData_df['gas'].astype(float)\n",
    "rawTransactionData_df['gasPrice'] = rawTransactionData_df['gasPrice'].astype(float)"
   ]
  },
  {
   "attachments": {},
   "cell_type": "markdown",
   "metadata": {},
   "source": [
    "# 6. Get Start and End Date of Transaction Data"
   ]
  },
  {
   "cell_type": "code",
   "execution_count": 1989,
   "metadata": {},
   "outputs": [],
   "source": [
    "# Get the first row of the dataframe\n",
    "startDate_UNIX = rawTransactionData_df.loc[0, \"timeStamp\"]\n",
    "# Get the last row of the dataframe\n",
    "endDate_UNIX = rawTransactionData_df.loc[len(rawTransactionData_df.index)-1, \"timeStamp\"]"
   ]
  },
  {
   "cell_type": "code",
   "execution_count": 1990,
   "metadata": {},
   "outputs": [],
   "source": [
    "# print(\"Start Date UNIX:\", startDate_UNIX)\n",
    "# print(\"End Date UNIX:\", endDate_UNIX)"
   ]
  },
  {
   "cell_type": "code",
   "execution_count": 1991,
   "metadata": {},
   "outputs": [],
   "source": [
    "startDate = str(convert_UNIX_to_DateTime(startDate_UNIX))[0:10]\n",
    "endDate = str(convert_UNIX_to_DateTime(endDate_UNIX))[0:10]"
   ]
  },
  {
   "cell_type": "code",
   "execution_count": 1992,
   "metadata": {},
   "outputs": [],
   "source": [
    "# print(\"Start Date:\", startDate)\n",
    "# print(\"End Date:\", endDate)"
   ]
  },
  {
   "cell_type": "code",
   "execution_count": 1993,
   "metadata": {},
   "outputs": [],
   "source": [
    "# Output the DataFrame to a CSV file\n",
    "rawTransactionData_df.to_csv('rawTransactionData_df.csv', index=True)"
   ]
  },
  {
   "attachments": {},
   "cell_type": "markdown",
   "metadata": {},
   "source": [
    "# 7. Get Historical Crypto Data Price"
   ]
  },
  {
   "cell_type": "code",
   "execution_count": 1994,
   "metadata": {},
   "outputs": [],
   "source": [
    "def getCryptoHistoricalData(token, startDate, endDate):\n",
    "    data = HD(token,86400,startDate+\"-00-00\",endDate+\"-00-00\").retrieve_data()\n",
    "    data.to_csv('tokenPriceData.csv')\n",
    "    return data"
   ]
  },
  {
   "cell_type": "code",
   "execution_count": 1995,
   "metadata": {},
   "outputs": [
    {
     "name": "stdout",
     "output_type": "stream",
     "text": [
      "Checking input parameters are in the correct format.\n",
      "Formatting Dates.\n",
      "Checking if user supplied is available on the CoinBase Pro API.\n",
      "Connected to the CoinBase Pro API.\n",
      "Ticker 'MATIC-USD' found at the CoinBase Pro API, continuing to extraction.\n",
      "Provisional Start: 2019-08-07T00:00:00\n",
      "Provisional End: 2020-06-02T00:00:00\n",
      "Data for chunk 1 of 5 extracted\n",
      "CoinBase Pro API did not have available data for 'MATIC-USD' beginning at 2019-08-07-00-00.  \n",
      "                        Trying a later date:'2019-08-07T00:00:00'\n",
      "Provisional Start: 2020-06-02T00:00:00\n",
      "Provisional End: 2021-03-29T00:00:00\n",
      "Data for chunk 2 of 5 extracted\n",
      "Provisional Start: 2021-03-29T00:00:00\n",
      "Provisional End: 2022-01-23T00:00:00\n"
     ]
    },
    {
     "name": "stderr",
     "output_type": "stream",
     "text": [
      "/Users/toddgavin/opt/anaconda3/lib/python3.9/site-packages/Historic_Crypto/HistoricalData.py:176: FutureWarning: The frame.append method is deprecated and will be removed from pandas in a future version. Use pandas.concat instead.\n",
      "  data = data.append(dataset)\n"
     ]
    },
    {
     "name": "stdout",
     "output_type": "stream",
     "text": [
      "Data for chunk 3 of 5 extracted\n",
      "Provisional Start: 2022-01-23T00:00:00\n",
      "Provisional End: 2022-11-19T00:00:00\n",
      "Data for chunk 4 of 5 extracted\n",
      "Provisional Start: 2022-11-19T00:00:00\n",
      "Provisional End: 2023-09-15T00:00:00\n",
      "Data for chunk 5 of 5 extracted\n"
     ]
    },
    {
     "name": "stderr",
     "output_type": "stream",
     "text": [
      "/Users/toddgavin/opt/anaconda3/lib/python3.9/site-packages/Historic_Crypto/HistoricalData.py:176: FutureWarning: The frame.append method is deprecated and will be removed from pandas in a future version. Use pandas.concat instead.\n",
      "  data = data.append(dataset)\n"
     ]
    }
   ],
   "source": [
    "tokenPriceData_df = getCryptoHistoricalData(\"MATIC-USD\", startDate, endDate)"
   ]
  },
  {
   "cell_type": "code",
   "execution_count": 1996,
   "metadata": {},
   "outputs": [
    {
     "name": "stdout",
     "output_type": "stream",
     "text": [
      "          time     low    high    open   close       volume\n",
      "0   2021-03-11  0.3140  0.5900  0.3871  0.4243  226442305.9\n",
      "1   2021-03-12  0.3924  0.5376  0.4249  0.4149  399949092.9\n",
      "2   2021-03-13  0.4097  0.4694  0.4146  0.4249  173058984.7\n",
      "3   2021-03-14  0.3727  0.4385  0.4263  0.3812  118930211.9\n",
      "4   2021-03-15  0.3781  0.4300  0.3812  0.3909  115608670.0\n",
      "..         ...     ...     ...     ...     ...          ...\n",
      "638 2022-12-09  0.9080  0.9346  0.9278  0.9097   21652345.5\n",
      "639 2022-12-10  0.9006  0.9165  0.9095  0.9084   14893056.2\n",
      "640 2022-12-11  0.8885  0.9151  0.9085  0.8921   17559138.1\n",
      "641 2022-12-12  0.8696  0.9130  0.8920  0.9111   25759143.9\n",
      "642 2022-12-13  0.8795  0.9424  0.9112  0.9190   42046289.8\n",
      "\n",
      "[643 rows x 6 columns]\n"
     ]
    }
   ],
   "source": [
    "tokenPriceData_df = tokenPriceData_df.reset_index(drop=False)\n",
    "print(tokenPriceData_df)"
   ]
  },
  {
   "cell_type": "code",
   "execution_count": 1997,
   "metadata": {},
   "outputs": [],
   "source": [
    "tokenPriceData_df.insert(1, 'date', 0)\n",
    "\n",
    "for index, row in tokenPriceData_df.iterrows():\n",
    "    date = str(row[\"time\"])[0:10]\n",
    "    tokenPriceData_df.loc[index, \"date\"] = date\n",
    "\n",
    "tokenPriceData_df = tokenPriceData_df.drop('time', axis=1)\n"
   ]
  },
  {
   "cell_type": "code",
   "execution_count": 1998,
   "metadata": {},
   "outputs": [
    {
     "name": "stdout",
     "output_type": "stream",
     "text": [
      "           date     low    high    open   close       volume\n",
      "0    2021-03-11  0.3140  0.5900  0.3871  0.4243  226442305.9\n",
      "1    2021-03-12  0.3924  0.5376  0.4249  0.4149  399949092.9\n",
      "2    2021-03-13  0.4097  0.4694  0.4146  0.4249  173058984.7\n",
      "3    2021-03-14  0.3727  0.4385  0.4263  0.3812  118930211.9\n",
      "4    2021-03-15  0.3781  0.4300  0.3812  0.3909  115608670.0\n",
      "..          ...     ...     ...     ...     ...          ...\n",
      "638  2022-12-09  0.9080  0.9346  0.9278  0.9097   21652345.5\n",
      "639  2022-12-10  0.9006  0.9165  0.9095  0.9084   14893056.2\n",
      "640  2022-12-11  0.8885  0.9151  0.9085  0.8921   17559138.1\n",
      "641  2022-12-12  0.8696  0.9130  0.8920  0.9111   25759143.9\n",
      "642  2022-12-13  0.8795  0.9424  0.9112  0.9190   42046289.8\n",
      "\n",
      "[643 rows x 6 columns]\n"
     ]
    }
   ],
   "source": [
    "print(tokenPriceData_df)"
   ]
  },
  {
   "cell_type": "code",
   "execution_count": 1999,
   "metadata": {},
   "outputs": [],
   "source": [
    "# datesList = list(tokenPriceData_df[\"time\"])\n",
    "datesToPriceDict = tokenPriceData_df.set_index('date')['open'].to_dict()"
   ]
  },
  {
   "cell_type": "code",
   "execution_count": 2000,
   "metadata": {},
   "outputs": [],
   "source": [
    "# print(datesToPriceDict)"
   ]
  },
  {
   "attachments": {},
   "cell_type": "markdown",
   "metadata": {},
   "source": [
    "# 8. Orient dates across Historical Crypto Data and Transactions Data"
   ]
  },
  {
   "cell_type": "code",
   "execution_count": 2001,
   "metadata": {},
   "outputs": [],
   "source": [
    "# Transactions Start and End Date\n",
    "# print(startDate_UNIX)\n",
    "# print(endDate_UNIX)"
   ]
  },
  {
   "cell_type": "code",
   "execution_count": 2002,
   "metadata": {},
   "outputs": [
    {
     "name": "stdout",
     "output_type": "stream",
     "text": [
      "2021-03-11 00:00:00\n"
     ]
    }
   ],
   "source": [
    "startDate2 = str(tokenPriceData_df.loc[0, \"date\"]) + \" 00:00:00\"\n",
    "# print(startDate2)\n",
    "\n",
    "# Define a format string for the date and time\n",
    "date_time_fmt = \"%Y-%m-%d %H:%M:%S\"\n",
    "# Convert the string to a datetime object\n",
    "startDate2 = datetime.strptime(startDate2, date_time_fmt)\n",
    "\n",
    "# Print the datetime object\n",
    "print(startDate2)"
   ]
  },
  {
   "cell_type": "code",
   "execution_count": 2003,
   "metadata": {},
   "outputs": [],
   "source": [
    "# convert the datetime object into a Unix timestamp\n",
    "startDate2_UNIX = time.mktime(startDate2.timetuple())\n",
    "\n",
    "# print(startDate_UNIX)\n",
    "# print(startDate2_UNIX)\n",
    "\n",
    "# The transactions start date is later than the crypto data start date\n",
    "if int(startDate_UNIX) > int(startDate2_UNIX):\n",
    "    startDate_main_UNIX = startDate_UNIX\n",
    "\n",
    "# The transactions start date is earlier than the crypto data start date\n",
    "else:\n",
    "    startDate_main_UNIX = startDate2_UNIX\n",
    "\n",
    "# print the Unix timestamp\n",
    "# print(startDate_main_UNIX)"
   ]
  },
  {
   "cell_type": "code",
   "execution_count": 2004,
   "metadata": {},
   "outputs": [
    {
     "name": "stdout",
     "output_type": "stream",
     "text": [
      "2022-12-13\n"
     ]
    }
   ],
   "source": [
    "endDate = tokenPriceData_df.loc[len(tokenPriceData_df.index)-1, \"date\"]\n",
    "print(endDate)"
   ]
  },
  {
   "attachments": {},
   "cell_type": "markdown",
   "metadata": {},
   "source": [
    "# 9. Match Datasets based on Date "
   ]
  },
  {
   "cell_type": "code",
   "execution_count": 2005,
   "metadata": {},
   "outputs": [],
   "source": [
    "rawTransactionData_df = rawTransactionData_df.drop(rawTransactionData_df.index[rawTransactionData_df.loc[:, 'timeStamp'] < startDate_main_UNIX])\n",
    "\n",
    "rawTransactionData_df = rawTransactionData_df.reset_index(drop=True)"
   ]
  },
  {
   "cell_type": "code",
   "execution_count": 2006,
   "metadata": {},
   "outputs": [],
   "source": [
    "# Output the DataFrame to a CSV file\n",
    "rawTransactionData_df.to_csv('rawTransactionData_df.csv', index=True)"
   ]
  },
  {
   "cell_type": "code",
   "execution_count": 2007,
   "metadata": {},
   "outputs": [
    {
     "name": "stdout",
     "output_type": "stream",
     "text": [
      "0    1.615709e+09\n",
      "1    1.615762e+09\n",
      "2    1.615894e+09\n",
      "3    1.615894e+09\n",
      "4    1.615947e+09\n",
      "Name: timeStamp, dtype: float64\n"
     ]
    }
   ],
   "source": [
    "print(rawTransactionData_df.head()[\"timeStamp\"])"
   ]
  },
  {
   "cell_type": "code",
   "execution_count": 2008,
   "metadata": {},
   "outputs": [
    {
     "name": "stdout",
     "output_type": "stream",
     "text": [
      "4061\n",
      "643\n"
     ]
    }
   ],
   "source": [
    "print(len(rawTransactionData_df.index))\n",
    "print(len(tokenPriceData_df.index))"
   ]
  },
  {
   "attachments": {},
   "cell_type": "markdown",
   "metadata": {},
   "source": [
    "# Add MATIC Price Column, Total Cost USD column, and OHLC USD column to transactions Dataframe"
   ]
  },
  {
   "cell_type": "code",
   "execution_count": 2009,
   "metadata": {},
   "outputs": [],
   "source": [
    "rawTransactionData_df.insert(7, 'priceUSD', 0)\n",
    "\n",
    "for index, row in rawTransactionData_df.iterrows():\n",
    "    # print(\"ran...\")\n",
    "    date = rawTransactionData_df.loc[index, \"date\"]\n",
    "    # print(\"date:\", date)\n",
    "    dateRow_df = tokenPriceData_df.loc[tokenPriceData_df['date'] == date]\n",
    "    # print(\"dateRow:\\n\", dateRow_df)\n",
    "    dateRow_df = dateRow_df.reset_index(drop=True)\n",
    "    price = (float(dateRow_df.loc[0, \"open\"]) + float(dateRow_df.loc[0, \"close\"]))/2\n",
    "    # print(\"price:\", price)\n",
    "\n",
    "    rawTransactionData_df.loc[index, \"priceUSD\"] = price"
   ]
  },
  {
   "cell_type": "code",
   "execution_count": 2010,
   "metadata": {},
   "outputs": [],
   "source": [
    "rawTransactionData_df.insert(8, 'totalCostUSD', 0)\n",
    "\n",
    "for index, row in rawTransactionData_df.iterrows():\n",
    "\n",
    "    totalCost = float(row[\"valueMovement\"]) * float(row[\"priceUSD\"])\n",
    "    rawTransactionData_df.loc[index, \"totalCostUSD\"] = totalCost"
   ]
  },
  {
   "cell_type": "code",
   "execution_count": 2011,
   "metadata": {},
   "outputs": [],
   "source": [
    "rawTransactionData_df.insert(9, 'OCdailyPriceMovementUSD', 0)\n",
    "rawTransactionData_df.insert(10, 'HLdailyPriceMovementUSD', 0)\n",
    "\n",
    "for index, row in rawTransactionData_df.iterrows():\n",
    "\n",
    "    date = rawTransactionData_df.loc[index, \"date\"]\n",
    "\n",
    "    maticPrice_df = tokenPriceData_df.loc[tokenPriceData_df['date'] == date]\n",
    "    maticPrice_df = maticPrice_df.reset_index(drop=True)\n",
    "\n",
    "    open = maticPrice_df.loc[0, \"open\"]\n",
    "    close = maticPrice_df.loc[0, \"close\"]\n",
    "    high = maticPrice_df.loc[0, \"high\"]\n",
    "    low = maticPrice_df.loc[0, \"low\"]\n",
    "    \n",
    "    OCprice = open - close\n",
    "    HLprice = high - low\n",
    "\n",
    "    rawTransactionData_df.loc[index, \"OCdailyPriceMovementUSD\"] = OCprice\n",
    "    rawTransactionData_df.loc[index, \"HLdailyPriceMovementUSD\"] = HLprice"
   ]
  },
  {
   "cell_type": "code",
   "execution_count": 2012,
   "metadata": {},
   "outputs": [],
   "source": [
    "rawTransactionData_df = rawTransactionData_df.sort_values(\"timeStamp\")\n",
    "rawTransactionData_df = rawTransactionData_df.reset_index(drop=True)"
   ]
  },
  {
   "cell_type": "code",
   "execution_count": 2013,
   "metadata": {},
   "outputs": [],
   "source": [
    "# Output the DataFrame to a CSV file\n",
    "rawTransactionData_df.to_csv('rawTransactionData_df.csv', index=True)"
   ]
  },
  {
   "attachments": {},
   "cell_type": "markdown",
   "metadata": {},
   "source": [
    "# Create Transactions Volume Dataframe"
   ]
  },
  {
   "cell_type": "code",
   "execution_count": 2014,
   "metadata": {},
   "outputs": [],
   "source": [
    "rawTransactionData_df['date'] = rawTransactionData_df['date'].astype(str)"
   ]
  },
  {
   "cell_type": "code",
   "execution_count": 2015,
   "metadata": {},
   "outputs": [
    {
     "name": "stdout",
     "output_type": "stream",
     "text": [
      "643\n",
      "['2021-03-11', '2021-03-12', '2021-03-13', '2021-03-14', '2021-03-15']\n"
     ]
    }
   ],
   "source": [
    "# Columns: -Index, #Date, *Num Transactions, *Value Movement, *Num BUYS, *Num Sells, *MATIC Price USD, -Total Cost USD, *OC daily price, *HL daily price\n",
    "\n",
    "datesList = tokenPriceData_df['date'].to_list()\n",
    "print(len(datesList))\n",
    "print(datesList[0:5])"
   ]
  },
  {
   "cell_type": "code",
   "execution_count": 2190,
   "metadata": {},
   "outputs": [],
   "source": [
    "dateToDailyTransactionInfoDict = {}\n",
    "\n",
    "for date in datesList:\n",
    "\n",
    "    transaction_df = rawTransactionData_df.loc[rawTransactionData_df['date'] == date]\n",
    "    transaction_df = transaction_df.reset_index(drop=True)\n",
    "\n",
    "    # print(\"transaction_df\\n\", transaction_df, \"\\nend df...\")\n",
    "\n",
    "    if not transaction_df.empty:\n",
    "\n",
    "        # loop through every row in the DataFrame and print the values\n",
    "        for index, row in transaction_df.iterrows():\n",
    "\n",
    "            valueMoved = row[\"valueMovement\"]\n",
    "            tradeType = row[\"tradeType\"]\n",
    "\n",
    "            if tradeType == \"BUY\":\n",
    "                buy = 1\n",
    "                sell = 0\n",
    "            else: \n",
    "                sell = 1\n",
    "                buy = 0\n",
    "\n",
    "            if date not in dateToDailyTransactionInfoDict.keys():\n",
    "                # print('run if..')\n",
    "                dateToDailyTransactionInfoDict[date] = [1, valueMoved, buy, sell]\n",
    "\n",
    "            # elif date in dateToDailyTransactionInfoDict.keys():\n",
    "            else:\n",
    "                # print('run elif..')\n",
    "                currentTransactionInfo = dateToDailyTransactionInfoDict.get(date)\n",
    "\n",
    "                currentNumTransactions = int(currentTransactionInfo[0]) + 1\n",
    "                currentValueMoved = currentTransactionInfo[1] + valueMoved\n",
    "                currentBuyNum = currentTransactionInfo[2] + buy\n",
    "                currentSellNum = currentTransactionInfo[3] + sell\n",
    "\n",
    "                dateToDailyTransactionInfoDict[date] = [currentNumTransactions, currentValueMoved, currentBuyNum, currentSellNum]\n",
    "\n",
    "            # print(date, dateToDailyTransactionInfoDict.get(date))\n",
    "\n",
    "    else:\n",
    "\n",
    "        dateToDailyTransactionInfoDict[date] = [0, 0, 0, 0]\n",
    "\n",
    "    # print(date, dateToDailyTransactionInfoDict.get(date))"
   ]
  },
  {
   "cell_type": "code",
   "execution_count": 2191,
   "metadata": {},
   "outputs": [
    {
     "name": "stdout",
     "output_type": "stream",
     "text": [
      "643\n"
     ]
    }
   ],
   "source": [
    "print(len(dateToDailyTransactionInfoDict))\n",
    "# print(dateToDailyTransactionInfo)"
   ]
  },
  {
   "cell_type": "code",
   "execution_count": 2192,
   "metadata": {},
   "outputs": [],
   "source": [
    "# create an empty list to store the lists\n",
    "dateToDailyTransactionInfoList = []\n",
    "\n",
    "# iterate over the dictionary's items and create a new list with the key as the first element and the value as the second element\n",
    "for key, value in dateToDailyTransactionInfoDict.items():\n",
    "    dateToDailyTransactionInfoList.append([key, value[0], value[1], value[2], value[3]])"
   ]
  },
  {
   "cell_type": "code",
   "execution_count": 2193,
   "metadata": {},
   "outputs": [],
   "source": [
    "columnNames = [\"date\", \"numTransactions\", \"valueMoved\", \"buyNum\", \"sellNum\"]\n",
    "timeSeriesTransactionData_df = pd.DataFrame(dateToDailyTransactionInfoList, columns=columnNames)"
   ]
  },
  {
   "cell_type": "code",
   "execution_count": 2194,
   "metadata": {},
   "outputs": [
    {
     "name": "stdout",
     "output_type": "stream",
     "text": [
      "         date  numTransactions  valueMoved  buyNum  sellNum\n",
      "0  2021-03-11                0         0.0       0        0\n",
      "1  2021-03-12                0         0.0       0        0\n",
      "2  2021-03-13                0         0.0       0        0\n",
      "3  2021-03-14                2       552.0       2        0\n",
      "4  2021-03-15                0         0.0       0        0\n"
     ]
    }
   ],
   "source": [
    "print(timeSeriesTransactionData_df.head())"
   ]
  },
  {
   "cell_type": "code",
   "execution_count": 2195,
   "metadata": {},
   "outputs": [],
   "source": [
    "# Output the DataFrame to a CSV file\n",
    "timeSeriesTransactionData_df.to_csv('timeSeriesTransactionData_df.csv', index=True)"
   ]
  },
  {
   "attachments": {},
   "cell_type": "markdown",
   "metadata": {},
   "source": [
    "# Scatter Plot: Value Movement vs Total Gas Cost"
   ]
  },
  {
   "cell_type": "code",
   "execution_count": 2196,
   "metadata": {},
   "outputs": [],
   "source": [
    "def create_scatter_plot(data1, data2):\n",
    "\n",
    "    # plt.title(\"Chi Square Score vs ALT Frequency per SNP\")\n",
    "    # plt.xlabel(\"Chi Square Value\")\n",
    "    # plt.ylabel(\"ALT Frequency for SNP\")\n",
    "\n",
    "    # Use seaborn to plot the scatter plot\n",
    "    sns.scatterplot(data1, data2)\n",
    "    # Fit a regression line to the data and plot it on the scatter plot\n",
    "    sns.regplot(data1, data2)\n",
    "\n",
    "    # Show the plot\n",
    "    plt.show()"
   ]
  },
  {
   "cell_type": "code",
   "execution_count": 2197,
   "metadata": {},
   "outputs": [],
   "source": [
    "value_data = list(rawTransactionData_df['valueMovement'])\n",
    "# Convert all items to positive floats\n",
    "value_data = [float(abs(x)) for x in value_data]\n",
    "\n",
    "totalGasCost_data = list(rawTransactionData_df['totalGasCost'])\n",
    "gasPrice_data = list(rawTransactionData_df['gasPrice'])\n",
    "maticPrice = list(rawTransactionData_df['priceUSD'])\n",
    "totalCostValue = list(rawTransactionData_df['totalCostUSD'])\n",
    "totalCostValue = [float(abs(x)) for x in totalCostValue]"
   ]
  },
  {
   "cell_type": "code",
   "execution_count": 2198,
   "metadata": {},
   "outputs": [
    {
     "name": "stdout",
     "output_type": "stream",
     "text": [
      "4061\n",
      "4061\n"
     ]
    }
   ],
   "source": [
    "print(len(value_data))\n",
    "print(len(totalGasCost_data))\n",
    "\n",
    "# print(value_data)\n",
    "# print(totalGasCost_data)"
   ]
  },
  {
   "cell_type": "code",
   "execution_count": 2199,
   "metadata": {},
   "outputs": [],
   "source": [
    "# import numpy as np\n",
    "# from scipy.stats import pearsonr\n",
    "\n",
    "# # Calculate the Pearson correlation coefficient\n",
    "# r, p = pearsonr(value_data, totalGasCost_data)\n",
    "\n",
    "# print(r,p)"
   ]
  },
  {
   "cell_type": "code",
   "execution_count": 2200,
   "metadata": {},
   "outputs": [
    {
     "data": {
      "text/plain": [
       "[<matplotlib.lines.Line2D at 0x7fe098a7f5b0>]"
      ]
     },
     "execution_count": 2200,
     "metadata": {},
     "output_type": "execute_result"
    },
    {
     "data": {
      "image/png": "[encoded data removed]",
      "text/plain": [
       "<Figure size 640x480 with 1 Axes>"
      ]
     },
     "metadata": {},
     "output_type": "display_data"
    }
   ],
   "source": [
    "plt.plot(maticPrice)"
   ]
  },
  {
   "cell_type": "code",
   "execution_count": 2201,
   "metadata": {},
   "outputs": [
    {
     "data": {
      "text/plain": [
       "[<matplotlib.lines.Line2D at 0x7fe0eca6dc40>]"
      ]
     },
     "execution_count": 2201,
     "metadata": {},
     "output_type": "execute_result"
    },
    {
     "data": {
      "image/png": "[encoded data removed]",
      "text/plain": [
       "<Figure size 640x480 with 1 Axes>"
      ]
     },
     "metadata": {},
     "output_type": "display_data"
    }
   ],
   "source": [
    "plt.plot(gasPrice_data)"
   ]
  },
  {
   "cell_type": "code",
   "execution_count": 2202,
   "metadata": {},
   "outputs": [
    {
     "name": "stderr",
     "output_type": "stream",
     "text": [
      "/Users/toddgavin/opt/anaconda3/lib/python3.9/site-packages/seaborn/_decorators.py:36: FutureWarning: Pass the following variables as keyword args: x, y. From version 0.12, the only valid positional argument will be `data`, and passing other arguments without an explicit keyword will result in an error or misinterpretation.\n",
      "  warnings.warn(\n",
      "/Users/toddgavin/opt/anaconda3/lib/python3.9/site-packages/seaborn/_decorators.py:36: FutureWarning: Pass the following variables as keyword args: x, y. From version 0.12, the only valid positional argument will be `data`, and passing other arguments without an explicit keyword will result in an error or misinterpretation.\n",
      "  warnings.warn(\n"
     ]
    },
    {
     "data": {
      "image/png": "[encoded data removed]",
      "text/plain": [
       "<Figure size 640x480 with 1 Axes>"
      ]
     },
     "metadata": {},
     "output_type": "display_data"
    }
   ],
   "source": [
    "create_scatter_plot(totalCostValue, maticPrice)"
   ]
  },
  {
   "attachments": {},
   "cell_type": "markdown",
   "metadata": {},
   "source": [
    "# `*********** END OF PROGRESS ***********`"
   ]
  },
  {
   "attachments": {},
   "cell_type": "markdown",
   "metadata": {},
   "source": [
    "# 5. Match Transactions Data to Crypto Historical Data "
   ]
  },
  {
   "cell_type": "code",
   "execution_count": 2203,
   "metadata": {},
   "outputs": [],
   "source": [
    "def getDailyTransactionVolumeForListOfWallets(transactionData):\n",
    "    dailyTransactionVolume = {}\n",
    "\n",
    "    for transaction in transactionData:\n",
    "        timeStamp = convert_UNIX_to_DateTime(transaction.get(\"timeStamp\"))\n",
    "        timeStamp = timeStamp[0:10]\n",
    "        if (timeStamp in dailyTransactionVolume):\n",
    "            cnt = dailyTransactionVolume.get(timeStamp) + 1\n",
    "            dailyTransactionVolume[timeStamp] = cnt\n",
    "        else:\n",
    "            dailyTransactionVolume[timeStamp] = 1\n",
    "\n",
    "\n",
    "    ordered_data = sorted(dailyTransactionVolume.items(), key = lambda x:datetime.strptime(x[0],'%Y-%m-%d'), reverse=False)\n",
    "\n",
    "    # print(type(ordered_data))\n",
    "    # print(type(dict(ordered_data)))\n",
    "    # print(dict(ordered_data))\n",
    "\n",
    "    return dict(ordered_data)"
   ]
  },
  {
   "cell_type": "code",
   "execution_count": 2204,
   "metadata": {},
   "outputs": [],
   "source": [
    "dailyTransactionVolume = getDailyTransactionVolumeForListOfWallets(rawTransactionData)"
   ]
  },
  {
   "cell_type": "code",
   "execution_count": 2205,
   "metadata": {},
   "outputs": [],
   "source": [
    "# print(dailyTransactionVolume)"
   ]
  },
  {
   "cell_type": "code",
   "execution_count": 2206,
   "metadata": {},
   "outputs": [
    {
     "name": "stdout",
     "output_type": "stream",
     "text": [
      "Checking input parameters are in the correct format.\n",
      "Formatting Dates.\n",
      "Checking if user supplied is available on the CoinBase Pro API.\n",
      "Connected to the CoinBase Pro API.\n",
      "Ticker 'MATIC-USD' found at the CoinBase Pro API, continuing to extraction.\n",
      "Provisional Start: 2019-08-07T00:00:00\n",
      "Provisional End: 2020-06-02T00:00:00\n",
      "Data for chunk 1 of 5 extracted\n",
      "CoinBase Pro API did not have available data for 'MATIC-USD' beginning at 2019-08-07-00-00.  \n",
      "                        Trying a later date:'2019-08-07T00:00:00'\n",
      "Provisional Start: 2020-06-02T00:00:00\n",
      "Provisional End: 2021-03-29T00:00:00\n",
      "Data for chunk 2 of 5 extracted\n"
     ]
    },
    {
     "name": "stderr",
     "output_type": "stream",
     "text": [
      "/Users/toddgavin/opt/anaconda3/lib/python3.9/site-packages/Historic_Crypto/HistoricalData.py:176: FutureWarning: The frame.append method is deprecated and will be removed from pandas in a future version. Use pandas.concat instead.\n",
      "  data = data.append(dataset)\n"
     ]
    },
    {
     "name": "stdout",
     "output_type": "stream",
     "text": [
      "Provisional Start: 2021-03-29T00:00:00\n",
      "Provisional End: 2022-01-23T00:00:00\n",
      "Data for chunk 3 of 5 extracted\n",
      "Provisional Start: 2022-01-23T00:00:00\n",
      "Provisional End: 2022-11-19T00:00:00\n",
      "Data for chunk 4 of 5 extracted\n",
      "Provisional Start: 2022-11-19T00:00:00\n",
      "Provisional End: 2023-09-15T00:00:00\n",
      "Data for chunk 5 of 5 extracted\n"
     ]
    },
    {
     "name": "stderr",
     "output_type": "stream",
     "text": [
      "/Users/toddgavin/opt/anaconda3/lib/python3.9/site-packages/Historic_Crypto/HistoricalData.py:176: FutureWarning: The frame.append method is deprecated and will be removed from pandas in a future version. Use pandas.concat instead.\n",
      "  data = data.append(dataset)\n"
     ]
    }
   ],
   "source": [
    "rawTokenData = getCryptoHistoricalData('MATIC-USD', startDate, endDate)"
   ]
  },
  {
   "cell_type": "code",
   "execution_count": 2207,
   "metadata": {},
   "outputs": [],
   "source": [
    "def getRangePrices(tokenData):\n",
    "    highPrices = list(tokenData[\"high\"])\n",
    "    lowPrices = list(tokenData[\"low\"])\n",
    "    rangePrices = [a - b for a, b in zip(highPrices, lowPrices)]\n",
    "     \n",
    "    dateTimes = tokenData.index.tolist()\n",
    "\n",
    "    datesToRangePrice = {}\n",
    "    cnt = 0\n",
    "\n",
    "    for dateTime in dateTimes:\n",
    "        datesToRangePrice[str(dateTime)[0:10]] = rangePrices[cnt]\n",
    "        cnt += 1\n",
    "\n",
    "    # print(datesToRangePrice)\n",
    "    return datesToRangePrice"
   ]
  },
  {
   "cell_type": "code",
   "execution_count": 2208,
   "metadata": {},
   "outputs": [],
   "source": [
    "dailyTokenPriceAction = getRangePrices(rawTokenData)"
   ]
  },
  {
   "cell_type": "code",
   "execution_count": 2209,
   "metadata": {},
   "outputs": [],
   "source": [
    "def alignTransactionsToPrice(transactions, prices):\n",
    "\n",
    "    newTransactions = {}\n",
    "\n",
    "    for key in prices.keys():\n",
    "        if (key in transactions):\n",
    "            newTransactions[key] = transactions.get(key)\n",
    "        else:\n",
    "            newTransactions[key] = 0\n",
    "\n",
    "    # print(len(prices))\n",
    "    # print(len(transactions))\n",
    "    # print(len(newTransactions))\n",
    "    # print(newTransactions)\n",
    "\n",
    "    return newTransactions"
   ]
  },
  {
   "cell_type": "code",
   "execution_count": 2210,
   "metadata": {},
   "outputs": [],
   "source": [
    "dailyTransactionVolume = alignTransactionsToPrice(dailyTransactionVolume, dailyTokenPriceAction)"
   ]
  },
  {
   "cell_type": "code",
   "execution_count": 2211,
   "metadata": {},
   "outputs": [],
   "source": [
    "def createPlotFromDict(dict, title, x, y, description):\n",
    "    keys = dict.keys()\n",
    "    values = dict.values()\n",
    "\n",
    "    plt.title(title)\n",
    "    plt.xlabel(x)\n",
    "    plt.ylabel(y)\n",
    "    # plt.figtext(0.5, -30, description, wrap=True, horizontalalignment='center', fontsize=10)\n",
    "\n",
    "    # plt.bar(keys, values)\n",
    "    plt.plot(keys, values)\n",
    "\n",
    "    # add a description to the graph\n",
    "    # text = textwrap.wrap(description, width=40)\n",
    "    # plt.text(0, 20,'\\n'.join(text), fontsize=10, ha='left', va='bottom')\n",
    "    plt.figtext(0.5, -0.1, description, wrap=True, horizontalalignment='center', fontsize=12)\n",
    "\n",
    "    # plots bar chart of keys (x) against values (y)\n",
    "    plt.savefig(title+\".png\", dpi=300, bbox_inches = \"tight\")"
   ]
  },
  {
   "cell_type": "code",
   "execution_count": 2212,
   "metadata": {},
   "outputs": [],
   "source": [
    "def printDataSet(data):\n",
    "    print(\"Data Length:\", len(data))\n",
    "    print(str(data)+\"\\n\")"
   ]
  },
  {
   "cell_type": "code",
   "execution_count": 2213,
   "metadata": {},
   "outputs": [],
   "source": [
    "# printDataSet(dailyTransactionVolume)\n",
    "# printDataSet(dailyTokenPriceAction)"
   ]
  },
  {
   "cell_type": "code",
   "execution_count": 2214,
   "metadata": {},
   "outputs": [
    {
     "data": {
      "image/png": "[encoded data removed]",
      "text/plain": [
       "<Figure size 640x480 with 1 Axes>"
      ]
     },
     "metadata": {},
     "output_type": "display_data"
    }
   ],
   "source": [
    "createPlotFromDict(dailyTransactionVolume, \"Wallet Transaction Volume\", \"Date\", \"Volume\", \"Fig 1. This figure is showing the daily wallet transaction volume\\n overtime matched to the corresponding price action in the MATIC\\n price action plot.\")"
   ]
  },
  {
   "cell_type": "code",
   "execution_count": 2215,
   "metadata": {},
   "outputs": [
    {
     "data": {
      "image/png": "[encoded data removed]",
      "text/plain": [
       "<Figure size 640x480 with 1 Axes>"
      ]
     },
     "metadata": {},
     "output_type": "display_data"
    }
   ],
   "source": [
    "createPlotFromDict(dailyTokenPriceAction, \"MATIC Token Daily Price Action\", \"Date\", \"Price Action Magnitude\", \"Fig 2. This figure is showing the daily price action of the MATIC\\n token compared to the date of its occurence. This\\n graph corresponds with the transactions plot.\")"
   ]
  },
  {
   "cell_type": "code",
   "execution_count": 2216,
   "metadata": {},
   "outputs": [],
   "source": [
    "def performLinearRegression(data1, data2):\n",
    "    a = list(data1.values())\n",
    "    b = list(data2.values())\n",
    "\n",
    "    slope, intercept, r_value, p_value, std_err = scipy.stats.linregress(a, b)\n",
    "    \n",
    "    print(\"R_value:\",r_value**2)\n",
    "    print(\"P_value:\",p_value)"
   ]
  },
  {
   "cell_type": "code",
   "execution_count": 2217,
   "metadata": {},
   "outputs": [
    {
     "name": "stdout",
     "output_type": "stream",
     "text": [
      "R_value: 0.012896821243707838\n",
      "P_value: 0.003933735306894307\n"
     ]
    }
   ],
   "source": [
    "performLinearRegression(dailyTransactionVolume, dailyTokenPriceAction)"
   ]
  },
  {
   "cell_type": "code",
   "execution_count": 2218,
   "metadata": {},
   "outputs": [
    {
     "name": "stderr",
     "output_type": "stream",
     "text": [
      "/Users/toddgavin/opt/anaconda3/lib/python3.9/site-packages/seaborn/_decorators.py:36: FutureWarning: Pass the following variables as keyword args: x, y. From version 0.12, the only valid positional argument will be `data`, and passing other arguments without an explicit keyword will result in an error or misinterpretation.\n",
      "  warnings.warn(\n",
      "/Users/toddgavin/opt/anaconda3/lib/python3.9/site-packages/seaborn/_decorators.py:36: FutureWarning: Pass the following variables as keyword args: x, y. From version 0.12, the only valid positional argument will be `data`, and passing other arguments without an explicit keyword will result in an error or misinterpretation.\n",
      "  warnings.warn(\n"
     ]
    },
    {
     "data": {
      "text/plain": [
       "<AxesSubplot:>"
      ]
     },
     "execution_count": 2218,
     "metadata": {},
     "output_type": "execute_result"
    },
    {
     "data": {
      "image/png": "[encoded data removed]",
      "text/plain": [
       "<Figure size 640x480 with 1 Axes>"
      ]
     },
     "metadata": {},
     "output_type": "display_data"
    }
   ],
   "source": [
    "import seaborn as sns\n",
    "\n",
    "transactionVolume = list(dailyTransactionVolume.values())\n",
    "tokenPriceAction = list(dailyTokenPriceAction.values())\n",
    "\n",
    "# Create the scatter plot\n",
    "sns.scatterplot(transactionVolume, tokenPriceAction)\n",
    "\n",
    "# Add the linear regression line\n",
    "sns.regplot(transactionVolume, tokenPriceAction)\n"
   ]
  }
 ],
 "metadata": {
  "kernelspec": {
   "display_name": "Python 3.9.13 ('base')",
   "language": "python",
   "name": "python3"
  },
  "language_info": {
   "codemirror_mode": {
    "name": "ipython",
    "version": 3
   },
   "file_extension": ".py",
   "mimetype": "text/x-python",
   "name": "python",
   "nbconvert_exporter": "python",
   "pygments_lexer": "ipython3",
   "version": "3.9.13 (main, Aug 25 2022, 18:29:29) \n[Clang 12.0.0 ]"
  },
  "orig_nbformat": 4,
  "vscode": {
   "interpreter": {
    "hash": "e862235458dcc43ce60f6439dfba4578949053168f0a6b8272bc7c7b0264254d"
   }
  }
 },
 "nbformat": 4,
 "nbformat_minor": 2
}
