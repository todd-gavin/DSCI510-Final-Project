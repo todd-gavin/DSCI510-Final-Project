{
 "cells": [
  {
   "cell_type": "markdown",
   "metadata": {},
   "source": [
    "- Leaving the account is deemed as a sell\n",
    "- Entering the account is deemed as a buy\n",
    "\n",
    "`ideas:`\n",
    "- Volume of transactions in one day compared to the magnitude of price difference from MATIC token price. (Can increase the number of wallets that transaction data is being pulled from...)\n",
    "- Magnitude for buying and selling in a day to the up or down movement of the Openn or CLose for the daily crypto price"
   ]
  },
  {
   "cell_type": "markdown",
   "metadata": {},
   "source": [
    "Get crypto price data from yahoo finance: https://medium.com/geekculture/3-simple-ways-to-obtain-cryptocurrency-data-in-python-f45b9d603a97 "
   ]
  },
  {
   "attachments": {},
   "cell_type": "markdown",
   "metadata": {},
   "source": [
    "\n",
    "`Argument ---\t   Description`\n",
    "- ticker ---\t       supply the ticker information which you want to return (str).\n",
    "- granularity ---\t   please supply a granularity in seconds (60, 300, 900, 3600, 21600, 86400) (int).\n",
    "- start_date ---\t   a string in the format YYYY-MM-DD-HH-MM (str).\n",
    "- end_date ---\t   a string in the format YYYY-MM-DD-HH-MM (str). Optional, Default: Now\n",
    "- verbose ---\t       printing during extraction. Default: True"
   ]
  },
  {
   "attachments": {},
   "cell_type": "markdown",
   "metadata": {},
   "source": [
    "# 1. Import Libraries"
   ]
  },
  {
   "cell_type": "code",
   "execution_count": 85,
   "metadata": {},
   "outputs": [],
   "source": [
    "from Historic_Crypto import HistoricalData as HD\n",
    "import pandas as pd\n",
    "import requests\n",
    "import json\n",
    "from datetime import datetime\n",
    "import matplotlib.pyplot as plt\n",
    "import scipy"
   ]
  },
  {
   "attachments": {},
   "cell_type": "markdown",
   "metadata": {},
   "source": [
    "# 2. Etherscan API Call"
   ]
  },
  {
   "cell_type": "code",
   "execution_count": 86,
   "metadata": {},
   "outputs": [],
   "source": [
    "def etherScanAPICall(wallet_address):\n",
    "    API_KEY = 'JATAZ8XWIBGBTY15YJJEABCDPIF8SCK7S3'\n",
    "    MATIC_CONTRACT_ADDRESS = '0x7D1AfA7B718fb893dB30A3aBc0Cfc608AaCfeBB0'\n",
    "    # WALLET_ADDRESS = '0x9507c04b10486547584c37bcbd931b2a4fee9a41'\n",
    "    url = 'https://api.etherscan.io/api?'\n",
    "\n",
    "    parameters = {\n",
    "        'module':'account',\n",
    "        'action':'tokentx',\n",
    "        'contractaddress':MATIC_CONTRACT_ADDRESS,\n",
    "        'address':wallet_address,\n",
    "        'page':'1',\n",
    "        'offset':'10000',\n",
    "        'startblock':'0',\n",
    "        'endblock':'27025780',\n",
    "        'sort':'asc',\n",
    "        'apikey':API_KEY\n",
    "    }\n",
    "\n",
    "    responseJSON = requests.request(\"GET\", url, params=parameters).json()\n",
    "\n",
    "    print(\"# of Transactions:\",len(responseJSON.get(\"result\")))\n",
    "\n",
    "    with open(\"transactionsResponse.json\", \"w\") as write_file:\n",
    "        json.dump(responseJSON, write_file, indent=4, sort_keys = True)\n",
    "\n",
    "    return responseJSON"
   ]
  },
  {
   "cell_type": "code",
   "execution_count": 87,
   "metadata": {},
   "outputs": [],
   "source": [
    "def etherScanAPI_MultiWallet_Call(listOfWalletAddresses):\n",
    "\n",
    "    totalTransactionDataList = []\n",
    "\n",
    "    for wallet in listOfWalletAddresses:\n",
    "        walletTransactionData = etherScanAPICall(wallet)\n",
    "        totalTransactionDataList = totalTransactionDataList + walletTransactionData.get(\"result\")\n",
    "\n",
    "    return totalTransactionDataList"
   ]
  },
  {
   "cell_type": "code",
   "execution_count": 88,
   "metadata": {},
   "outputs": [],
   "source": [
    "listOfWallets = [\n",
    "    '0x9507c04b10486547584c37bcbd931b2a4fee9a41',\n",
    "    '0x5666ed92c83af9dab61601c87bf7769ad57103f9',\n",
    "    '0x7d1afa7b718fb893db30a3abc0cfc608aacfebb0',\n",
    "    '0xed28b1c47375cd23aa6428544f4feaeaf3ee4e7b'\n",
    "]"
   ]
  },
  {
   "cell_type": "code",
   "execution_count": 89,
   "metadata": {},
   "outputs": [
    {
     "name": "stdout",
     "output_type": "stream",
     "text": [
      "# of Transactions: 2747\n",
      "# of Transactions: 739\n",
      "# of Transactions: 506\n",
      "# of Transactions: 3\n"
     ]
    }
   ],
   "source": [
    "rawTransactionData = etherScanAPI_MultiWallet_Call(listOfWallets)"
   ]
  },
  {
   "cell_type": "code",
   "execution_count": 90,
   "metadata": {},
   "outputs": [],
   "source": [
    "# print(rawTransactionData)"
   ]
  },
  {
   "attachments": {},
   "cell_type": "markdown",
   "metadata": {},
   "source": [
    "buying and Selling"
   ]
  },
  {
   "cell_type": "code",
   "execution_count": 91,
   "metadata": {},
   "outputs": [],
   "source": [
    "def wei_to_ether(wei):\n",
    "    ether = wei / (10**18)\n",
    "    return ether"
   ]
  },
  {
   "cell_type": "code",
   "execution_count": 92,
   "metadata": {},
   "outputs": [],
   "source": [
    "def convert_UNIX_to_DateTime(unix):\n",
    "    return datetime.utcfromtimestamp(int(unix)).strftime('%Y-%m-%d %H:%M:%S') # returns type str"
   ]
  },
  {
   "cell_type": "code",
   "execution_count": 93,
   "metadata": {},
   "outputs": [],
   "source": [
    "dateTo_buyAndSellVolume = {}\n",
    "\n",
    "for transaction in rawTransactionData:\n",
    "\n",
    "    timeStamp = convert_UNIX_to_DateTime(transaction.get(\"timeStamp\"))\n",
    "    timeStamp = timeStamp[0:10]\n",
    "\n",
    "    value = wei_to_ether(float(transaction.get(\"value\")))\n",
    "    \n",
    "    to_wallet = transaction.get(\"to\")\n",
    "    from_wallet = transaction.get(\"from\")\n",
    "\n",
    "    # print(timeStamp, value, to_wallet, from_wallet)\n",
    "\n",
    "    if timeStamp in dateTo_buyAndSellVolume:\n",
    "        # considered a sell\n",
    "        if from_wallet in listOfWallets:\n",
    "            dateTo_buyAndSellVolume[timeStamp] -= value\n",
    "        # considered a buy\n",
    "        elif to_wallet in listOfWallets:\n",
    "            dateTo_buyAndSellVolume[timeStamp] += value\n",
    "    else:\n",
    "        # considered a sell\n",
    "        if from_wallet in listOfWallets:\n",
    "            dateTo_buyAndSellVolume[timeStamp] = value\n",
    "        # considered a buy\n",
    "        elif to_wallet in listOfWallets:\n",
    "            dateTo_buyAndSellVolume[timeStamp] = value\n",
    "\n",
    "# print(dateTo_buyAndSellVolume)"
   ]
  },
  {
   "attachments": {},
   "cell_type": "markdown",
   "metadata": {},
   "source": [
    "# 3. "
   ]
  },
  {
   "attachments": {},
   "cell_type": "markdown",
   "metadata": {},
   "source": [
    "{'blockNumber': '16091175', \n",
    "'timeStamp': '1669912427', \n",
    "'hash': '0xd74c3f3e1b6a05731e3b8eda20a6c1d98a1f4dbbaaa9931d210d031af8ec4456', \n",
    "'nonce': '102', \n",
    "'blockHash': '0x0d945fd54ccd865c450fe73d94110f377315815465f1a33c39ca654cb0ace02b', \n",
    "'from': '0xed28b1c47375cd23aa6428544f4feaeaf3ee4e7b', \n",
    "'contractAddress': '0x7d1afa7b718fb893db30a3abc0cfc608aacfebb0', \n",
    "'to': '0x5e3ef299fddf15eaa0432e6e66473ace8c13d908', \n",
    "'value': '50100000000000000000', \n",
    "'tokenName': 'Matic Token', \n",
    "'tokenSymbol': 'MATIC', \n",
    "'tokenDecimal': '18', \n",
    "'transactionIndex': '49', \n",
    "'gas': '254199', \n",
    "'gasPrice': '20820448945', \n",
    "'gasUsed': '221634', \n",
    "'cumulativeGasUsed': '4805006', \n",
    "'input': 'deprecated', \n",
    "'confirmations': '61052'}"
   ]
  },
  {
   "cell_type": "code",
   "execution_count": 94,
   "metadata": {},
   "outputs": [],
   "source": [
    "def getStartAndEndDate(transactionData):\n",
    "\n",
    "    startDate = 99999999999\n",
    "    endDate = 0\n",
    "\n",
    "    for transaction in transactionData:\n",
    "        timeStamp = int(transaction.get('timeStamp'))\n",
    "\n",
    "        if timeStamp < startDate:\n",
    "            startDate = timeStamp\n",
    "        elif timeStamp > endDate:\n",
    "            endDate = timeStamp\n",
    "\n",
    "    return startDate, endDate"
   ]
  },
  {
   "cell_type": "code",
   "execution_count": 95,
   "metadata": {},
   "outputs": [
    {
     "name": "stdout",
     "output_type": "stream",
     "text": [
      "1565194663 1670649623\n",
      "2019-08-07 2022-12-10\n"
     ]
    }
   ],
   "source": [
    "startDate, endDate = getStartAndEndDate(rawTransactionData)\n",
    "print(startDate, endDate)\n",
    "startDate = str(convert_UNIX_to_DateTime(startDate))[0:10]\n",
    "endDate = str(convert_UNIX_to_DateTime(endDate))[0:10]\n",
    "print(startDate, endDate)"
   ]
  },
  {
   "cell_type": "code",
   "execution_count": 96,
   "metadata": {},
   "outputs": [],
   "source": [
    "def getDailyTransactionVolumeForListOfWallets(transactionData):\n",
    "    dailyTransactionVolume = {}\n",
    "\n",
    "    for transaction in transactionData:\n",
    "        timeStamp = convert_UNIX_to_DateTime(transaction.get(\"timeStamp\"))\n",
    "        timeStamp = timeStamp[0:10]\n",
    "        if (timeStamp in dailyTransactionVolume):\n",
    "            cnt = dailyTransactionVolume.get(timeStamp) + 1\n",
    "            dailyTransactionVolume[timeStamp] = cnt\n",
    "        else:\n",
    "            dailyTransactionVolume[timeStamp] = 1\n",
    "\n",
    "\n",
    "    ordered_data = sorted(dailyTransactionVolume.items(), key = lambda x:datetime.strptime(x[0],'%Y-%m-%d'), reverse=False)\n",
    "\n",
    "    # print(type(ordered_data))\n",
    "    # print(type(dict(ordered_data)))\n",
    "    # print(dict(ordered_data))\n",
    "\n",
    "    return dict(ordered_data)"
   ]
  },
  {
   "cell_type": "code",
   "execution_count": 97,
   "metadata": {},
   "outputs": [],
   "source": [
    "dailyTransactionVolume = getDailyTransactionVolumeForListOfWallets(rawTransactionData)"
   ]
  },
  {
   "cell_type": "code",
   "execution_count": 98,
   "metadata": {},
   "outputs": [],
   "source": [
    "# print(dailyTransactionVolume)"
   ]
  },
  {
   "cell_type": "code",
   "execution_count": 99,
   "metadata": {},
   "outputs": [],
   "source": [
    "def getCryptoHistoricalData(token, startDate, endDate):\n",
    "    data = HD(token,86400,startDate+\"-00-00\",endDate+\"-00-00\").retrieve_data()\n",
    "    data.to_csv('tokenPriceData.csv')\n",
    "    return data"
   ]
  },
  {
   "cell_type": "code",
   "execution_count": 100,
   "metadata": {},
   "outputs": [
    {
     "name": "stdout",
     "output_type": "stream",
     "text": [
      "Checking input parameters are in the correct format.\n",
      "Formatting Dates.\n",
      "Checking if user supplied is available on the CoinBase Pro API.\n",
      "Connected to the CoinBase Pro API.\n",
      "Ticker 'MATIC-USD' found at the CoinBase Pro API, continuing to extraction.\n",
      "Provisional Start: 2019-08-07T00:00:00\n",
      "Provisional End: 2020-06-02T00:00:00\n",
      "Data for chunk 1 of 5 extracted\n",
      "CoinBase Pro API did not have available data for 'MATIC-USD' beginning at 2019-08-07-00-00.  \n",
      "                        Trying a later date:'2019-08-07T00:00:00'\n",
      "Provisional Start: 2020-06-02T00:00:00\n",
      "Provisional End: 2021-03-29T00:00:00\n",
      "Data for chunk 2 of 5 extracted\n"
     ]
    },
    {
     "name": "stderr",
     "output_type": "stream",
     "text": [
      "/Users/toddgavin/opt/anaconda3/lib/python3.9/site-packages/Historic_Crypto/HistoricalData.py:176: FutureWarning: The frame.append method is deprecated and will be removed from pandas in a future version. Use pandas.concat instead.\n",
      "  data = data.append(dataset)\n"
     ]
    },
    {
     "name": "stdout",
     "output_type": "stream",
     "text": [
      "Provisional Start: 2021-03-29T00:00:00\n",
      "Provisional End: 2022-01-23T00:00:00\n",
      "Data for chunk 3 of 5 extracted\n",
      "Provisional Start: 2022-01-23T00:00:00\n",
      "Provisional End: 2022-11-19T00:00:00\n",
      "Data for chunk 4 of 5 extracted\n",
      "Provisional Start: 2022-11-19T00:00:00\n",
      "Provisional End: 2023-09-15T00:00:00\n",
      "Data for chunk 5 of 5 extracted\n"
     ]
    },
    {
     "name": "stderr",
     "output_type": "stream",
     "text": [
      "/Users/toddgavin/opt/anaconda3/lib/python3.9/site-packages/Historic_Crypto/HistoricalData.py:176: FutureWarning: The frame.append method is deprecated and will be removed from pandas in a future version. Use pandas.concat instead.\n",
      "  data = data.append(dataset)\n"
     ]
    }
   ],
   "source": [
    "rawTokenData = getCryptoHistoricalData('MATIC-USD', startDate, endDate)"
   ]
  },
  {
   "cell_type": "code",
   "execution_count": 149,
   "metadata": {},
   "outputs": [
    {
     "name": "stdout",
     "output_type": "stream",
     "text": [
      "               low    high    open   close       volume\n",
      "time                                                   \n",
      "2021-03-11  0.3140  0.5900  0.3871  0.4243  226442305.9\n",
      "2021-03-12  0.3924  0.5376  0.4249  0.4149  399949092.9\n",
      "2021-03-13  0.4097  0.4694  0.4146  0.4249  173058984.7\n",
      "2021-03-14  0.3727  0.4385  0.4263  0.3812  118930211.9\n",
      "2021-03-15  0.3781  0.4300  0.3812  0.3909  115608670.0\n",
      "...            ...     ...     ...     ...          ...\n",
      "2022-12-06  0.8965  0.9214  0.9117  0.9176   25489220.1\n",
      "2022-12-07  0.8707  0.9198  0.9177  0.8978   37556021.2\n",
      "2022-12-08  0.8874  0.9301  0.8979  0.9278   29494131.3\n",
      "2022-12-09  0.9080  0.9346  0.9278  0.9097   21652345.5\n",
      "2022-12-10  0.9016  0.9101  0.9095  0.9065    6378621.9\n",
      "\n",
      "[640 rows x 5 columns]\n"
     ]
    }
   ],
   "source": [
    "print(rawTokenData)"
   ]
  },
  {
   "cell_type": "code",
   "execution_count": 150,
   "metadata": {},
   "outputs": [],
   "source": [
    "def getOpenCloseRangePrices(tokenData):\n",
    "    openPrices = list(tokenData[\"open\"])\n",
    "    closePrices = list(tokenData[\"close\"])\n",
    "    rangePrices = [a - b for a, b in zip(openPrices, closePrices)]\n",
    "\n",
    "    # print(rangePrices)\n",
    "     \n",
    "    dateTimes = tokenData.index.tolist()\n",
    "\n",
    "    datesToRangePrice = {}\n",
    "    cnt = 0\n",
    "\n",
    "    for dateTime in dateTimes:\n",
    "        datesToRangePrice[str(dateTime)[0:10]] = rangePrices[cnt]\n",
    "        cnt += 1\n",
    "\n",
    "    # print(datesToRangePrice)\n",
    "    return datesToRangePrice"
   ]
  },
  {
   "cell_type": "code",
   "execution_count": 151,
   "metadata": {},
   "outputs": [],
   "source": [
    "# dailyTokenPriceAction = getRangePrices(rawTokenData)\n",
    "dailyTokenPriceAction = getOpenCloseRangePrices(rawTokenData)"
   ]
  },
  {
   "cell_type": "code",
   "execution_count": 152,
   "metadata": {},
   "outputs": [],
   "source": [
    "def alignTransactionsToPrice(transactions, prices):\n",
    "\n",
    "    newTransactions = {}\n",
    "\n",
    "    for key in prices.keys():\n",
    "        if (key in transactions):\n",
    "            newTransactions[key] = transactions.get(key)\n",
    "        else:\n",
    "            newTransactions[key] = 0\n",
    "\n",
    "    # print(len(prices))\n",
    "    # print(len(transactions))\n",
    "    # print(len(newTransactions))\n",
    "    # print(newTransactions)\n",
    "\n",
    "    return newTransactions"
   ]
  },
  {
   "cell_type": "code",
   "execution_count": 153,
   "metadata": {},
   "outputs": [],
   "source": [
    "dailyTransactionVolume = alignTransactionsToPrice(dateTo_buyAndSellVolume, dailyTokenPriceAction)"
   ]
  },
  {
   "cell_type": "code",
   "execution_count": 154,
   "metadata": {},
   "outputs": [],
   "source": [
    "def createPlotFromDict(dict):\n",
    "    keys = dict.keys()\n",
    "    values = dict.values()\n",
    "    # plt.bar(keys, values)\n",
    "    plt.plot(keys, values)\n",
    "    # plots bar chart of keys (x) against values (y)"
   ]
  },
  {
   "cell_type": "code",
   "execution_count": 155,
   "metadata": {},
   "outputs": [],
   "source": [
    "def printDataSet(data):\n",
    "    print(\"Data Length:\", len(data))\n",
    "    print(str(data)+\"\\n\")"
   ]
  },
  {
   "cell_type": "code",
   "execution_count": 156,
   "metadata": {},
   "outputs": [],
   "source": [
    "# printDataSet(dailyTransactionVolume)\n",
    "# printDataSet(dailyTokenPriceAction)\n",
    "# printDataSet(type(dailyTransactionVolume))\n",
    "# printDataSet(type(dailyTokenPriceAction))\n",
    "# printDataSet(len(dailyTransactionVolume))\n",
    "# printDataSet(len(dailyTokenPriceAction))"
   ]
  },
  {
   "cell_type": "code",
   "execution_count": 157,
   "metadata": {},
   "outputs": [],
   "source": [
    "# def delete_dict_indexs(d, volume):\n",
    "\n",
    "#     keys = list(d.keys())\n",
    "\n",
    "#     for i in range(volume):\n",
    "#         # d.pop(i)  # Delete the first 1000 items by calling pop with the key\n",
    "#         del d[keys[i]]\n",
    "\n",
    "#     return d  # Output: {1000: 1000, 1001: 1001, ..., 9999: 9999}"
   ]
  },
  {
   "cell_type": "code",
   "execution_count": 158,
   "metadata": {},
   "outputs": [],
   "source": [
    "keys = list(dailyTransactionVolume.keys())\n",
    "\n",
    "for i in range(425):\n",
    "    # d.pop(i)  # Delete the first 1000 items by calling pop with the key\n",
    "    del dailyTransactionVolume[keys[i]]\n",
    "    del dailyTokenPriceAction[keys[i]]\n"
   ]
  },
  {
   "cell_type": "code",
   "execution_count": 159,
   "metadata": {},
   "outputs": [],
   "source": [
    "# dailyTransactionVolume = delete_dict_indexs(dict(dailyTransactionVolume), 350)\n",
    "# dailyTokenPriceAction = delete_dict_indexs(dict(dailyTokenPriceAction), 350)"
   ]
  },
  {
   "cell_type": "code",
   "execution_count": 160,
   "metadata": {},
   "outputs": [
    {
     "data": {
      "image/png": "[encoded data removed]",
      "text/plain": [
       "<Figure size 640x480 with 1 Axes>"
      ]
     },
     "metadata": {},
     "output_type": "display_data"
    }
   ],
   "source": [
    "createPlotFromDict(dailyTransactionVolume)"
   ]
  },
  {
   "cell_type": "code",
   "execution_count": 161,
   "metadata": {},
   "outputs": [
    {
     "data": {
      "image/png": "[encoded data removed]",
      "text/plain": [
       "<Figure size 640x480 with 1 Axes>"
      ]
     },
     "metadata": {},
     "output_type": "display_data"
    }
   ],
   "source": [
    "createPlotFromDict(dailyTokenPriceAction)"
   ]
  },
  {
   "cell_type": "code",
   "execution_count": 162,
   "metadata": {},
   "outputs": [],
   "source": [
    "def performLinearRegression(data1, data2):\n",
    "    a = list(data1.values())\n",
    "    b = list(data2.values())\n",
    "\n",
    "    slope, intercept, r_value, p_value, std_err = scipy.stats.linregress(a, b)\n",
    "    \n",
    "    print(\"R_value:\",r_value**2)\n",
    "    print(\"P_value:\",p_value)"
   ]
  },
  {
   "cell_type": "code",
   "execution_count": 163,
   "metadata": {},
   "outputs": [
    {
     "name": "stdout",
     "output_type": "stream",
     "text": [
      "R_value: 0.003043073338376138\n",
      "P_value: 0.42095728691078405\n"
     ]
    }
   ],
   "source": [
    "performLinearRegression(dailyTransactionVolume, dailyTokenPriceAction)"
   ]
  },
  {
   "attachments": {},
   "cell_type": "markdown",
   "metadata": {},
   "source": [
    "- transaction volume per day vs the price per day"
   ]
  }
 ],
 "metadata": {
  "kernelspec": {
   "display_name": "Python 3.9.13 ('base')",
   "language": "python",
   "name": "python3"
  },
  "language_info": {
   "codemirror_mode": {
    "name": "ipython",
    "version": 3
   },
   "file_extension": ".py",
   "mimetype": "text/x-python",
   "name": "python",
   "nbconvert_exporter": "python",
   "pygments_lexer": "ipython3",
   "version": "3.9.13"
  },
  "orig_nbformat": 4,
  "vscode": {
   "interpreter": {
    "hash": "e862235458dcc43ce60f6439dfba4578949053168f0a6b8272bc7c7b0264254d"
   }
  }
 },
 "nbformat": 4,
 "nbformat_minor": 2
}
