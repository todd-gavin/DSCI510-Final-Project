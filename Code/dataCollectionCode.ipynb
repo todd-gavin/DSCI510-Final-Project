{
 "cells": [
  {
   "cell_type": "code",
   "execution_count": 1,
   "metadata": {},
   "outputs": [],
   "source": [
    "from Historic_Crypto import HistoricalData as HD\n",
    "import pandas as pd\n",
    "import requests\n",
    "import json\n",
    "from datetime import datetime\n",
    "import matplotlib.pyplot as plt\n",
    "import scipy"
   ]
  },
  {
   "cell_type": "markdown",
   "metadata": {},
   "source": [
    "`Etherscan API Information and Data`\n",
    "- The Etherscan API collects data from the blockchain. \n",
    "- In this case, I am using the action 'tokentx' which collects all fo the transaction data for a specifc token conducted by a single crypto wallet address.\n",
    "- The link to the Etherscan API documentation is as follows: https://docs.etherscan.io/api-endpoints/accounts \n",
    "- The function 'etherScanAPICall()' calls the API endpoint and returns a JSON fof the reponse which contains the transaction data. The JSON is also stored in a JSON file. \n",
    "- To put simply, as of right now, we only want to aggregate the number of transactions that occurred daily (regardless of buy or sell)."
   ]
  },
  {
   "cell_type": "code",
   "execution_count": 2,
   "metadata": {},
   "outputs": [],
   "source": [
    "def etherScanAPICall(wallet_address):\n",
    "    API_KEY = 'JATAZ8XWIBGBTY15YJJEABCDPIF8SCK7S3'\n",
    "    MATIC_CONTRACT_ADDRESS = '0x7D1AfA7B718fb893dB30A3aBc0Cfc608AaCfeBB0'\n",
    "    # WALLET_ADDRESS = '0x9507c04b10486547584c37bcbd931b2a4fee9a41'\n",
    "    url = 'https://api.etherscan.io/api?'\n",
    "\n",
    "    parameters = {\n",
    "        'module':'account',\n",
    "        'action':'tokentx',\n",
    "        'contractaddress':MATIC_CONTRACT_ADDRESS,\n",
    "        'address':wallet_address,\n",
    "        'page':'1',\n",
    "        'offset':'10000',\n",
    "        'startblock':'0',\n",
    "        'endblock':'27025780',\n",
    "        'sort':'asc',\n",
    "        'apikey':API_KEY\n",
    "    }\n",
    "\n",
    "    responseJSON = requests.request(\"GET\", url, params=parameters).json()\n",
    "\n",
    "    print(\"# of Transactions:\",len(responseJSON.get(\"result\")))\n",
    "\n",
    "    with open(\"transactionsResponse.json\", \"w\") as write_file:\n",
    "        json.dump(responseJSON, write_file, indent=4, sort_keys = True)\n",
    "\n",
    "    return responseJSON\n"
   ]
  },
  {
   "cell_type": "code",
   "execution_count": 3,
   "metadata": {},
   "outputs": [],
   "source": [
    "def convert_UNIX_to_DateTime(unix):\n",
    "    return datetime.utcfromtimestamp(int(unix)).strftime('%Y-%m-%d %H:%M:%S') # returns type str"
   ]
  },
  {
   "cell_type": "code",
   "execution_count": 4,
   "metadata": {},
   "outputs": [],
   "source": [
    "def getDailyTransactionVolume(transactionData):\n",
    "    dailyTransactionVolume = {}\n",
    "\n",
    "    for transaction in transactionData.get('result'):\n",
    "        timeStamp = convert_UNIX_to_DateTime(transaction.get(\"timeStamp\"))\n",
    "        timeStamp = timeStamp[0:10]\n",
    "        if (timeStamp in dailyTransactionVolume):\n",
    "            cnt = dailyTransactionVolume.get(timeStamp) + 1\n",
    "            dailyTransactionVolume[timeStamp] = cnt\n",
    "        else:\n",
    "            dailyTransactionVolume[timeStamp] = 1\n",
    "\n",
    "    return dailyTransactionVolume"
   ]
  },
  {
   "cell_type": "code",
   "execution_count": 5,
   "metadata": {},
   "outputs": [
    {
     "name": "stdout",
     "output_type": "stream",
     "text": [
      "# of Transactions: 2745\n",
      "66\n",
      "{'2022-08-24': 2, '2022-09-23': 69, '2022-09-24': 48, '2022-09-25': 40, '2022-09-26': 96, '2022-09-27': 34, '2022-09-28': 3, '2022-09-29': 19, '2022-09-30': 103, '2022-10-01': 9, '2022-10-02': 26, '2022-10-03': 60, '2022-10-04': 69, '2022-10-05': 4, '2022-10-07': 3, '2022-10-08': 27, '2022-10-10': 1, '2022-10-12': 2, '2022-10-18': 1, '2022-10-21': 19, '2022-10-22': 24, '2022-10-23': 29, '2022-10-24': 28, '2022-10-25': 63, '2022-10-26': 49, '2022-10-27': 51, '2022-10-28': 46, '2022-10-29': 56, '2022-10-30': 71, '2022-10-31': 44, '2022-11-01': 29, '2022-11-02': 87, '2022-11-03': 116, '2022-11-04': 162, '2022-11-05': 110, '2022-11-06': 73, '2022-11-07': 88, '2022-11-08': 97, '2022-11-11': 37, '2022-11-12': 5, '2022-11-14': 48, '2022-11-15': 13, '2022-11-16': 20, '2022-11-17': 30, '2022-11-18': 2, '2022-11-19': 8, '2022-11-20': 23, '2022-11-21': 1, '2022-11-23': 21, '2022-11-24': 61, '2022-11-25': 34, '2022-11-26': 14, '2022-11-27': 15, '2022-11-28': 7, '2022-11-29': 15, '2022-11-30': 50, '2022-12-01': 108, '2022-12-02': 90, '2022-12-03': 47, '2022-12-04': 21, '2022-12-05': 47, '2022-12-06': 40, '2022-12-07': 59, '2022-12-08': 33, '2022-12-09': 36, '2022-12-10': 2}\n"
     ]
    }
   ],
   "source": [
    "rawTransactionData = etherScanAPICall('0x9507c04b10486547584c37bcbd931b2a4fee9a41')\n",
    "# rawTransactionData = etherScanAPICall('0x5666ed92c83af9dab61601c87bf7769ad57103f9')\n",
    "\n",
    "rawDailyTransactionVolume = getDailyTransactionVolume(rawTransactionData)\n",
    "\n",
    "print(len(rawDailyTransactionVolume))\n",
    "print(rawDailyTransactionVolume)"
   ]
  },
  {
   "cell_type": "code",
   "execution_count": 6,
   "metadata": {},
   "outputs": [],
   "source": [
    "def getStartAndEndDate(transactionData):\n",
    "    startDate = next(iter(transactionData)) \n",
    "    endDate = list(transactionData)[-1]\n",
    "    return [startDate, endDate]"
   ]
  },
  {
   "cell_type": "markdown",
   "metadata": {},
   "source": [
    "`Historic_Crypto Python Library Information and Data`\n",
    "- The Historic_Crypto Python Libray uses the Coinbase Pro API to retrieve the historical data of many different types of cryptocurrencies.\n",
    "- The function 'getCryptoHistoricalData()' calls the library function 'retrieve_data()' to return a dataframe of the historical pricing data of the token entered.\n",
    "- The function also safe the dataframe data to a CSV file."
   ]
  },
  {
   "cell_type": "code",
   "execution_count": 7,
   "metadata": {},
   "outputs": [],
   "source": [
    "def getCryptoHistoricalData(token, startDate, endDate):\n",
    "    data = HD(token,86400,startDate+\"-00-00\",endDate+\"-00-00\").retrieve_data()\n",
    "    data.to_csv('tokenPriceData.csv')\n",
    "    return data"
   ]
  },
  {
   "cell_type": "code",
   "execution_count": 8,
   "metadata": {},
   "outputs": [
    {
     "name": "stdout",
     "output_type": "stream",
     "text": [
      "Checking input parameters are in the correct format.\n",
      "Formatting Dates.\n",
      "Checking if user supplied is available on the CoinBase Pro API.\n",
      "Connected to the CoinBase Pro API.\n",
      "Ticker 'MATIC-USD' found at the CoinBase Pro API, continuing to extraction.\n",
      "Retrieved Data from Coinbase Pro API.\n",
      "Returning data.\n"
     ]
    }
   ],
   "source": [
    "startAndEndDate = getStartAndEndDate(rawDailyTransactionVolume)\n",
    "\n",
    "rawTokenData = getCryptoHistoricalData('MATIC-USD', startAndEndDate[0], startAndEndDate[1])"
   ]
  },
  {
   "cell_type": "code",
   "execution_count": 9,
   "metadata": {},
   "outputs": [
    {
     "name": "stdout",
     "output_type": "stream",
     "text": [
      "               low    high    open   close      volume\n",
      "time                                                  \n",
      "2022-08-24  0.8019  0.8406  0.8320  0.8135  25232711.6\n",
      "2022-08-25  0.8052  0.8321  0.8135  0.8190  22782683.0\n",
      "2022-08-26  0.7562  0.8484  0.8193  0.7667  58825306.5\n",
      "2022-08-27  0.7570  0.8147  0.7666  0.8060  34756485.9\n",
      "2022-08-28  0.7777  0.8337  0.8062  0.7827  30160499.1\n",
      "...            ...     ...     ...     ...         ...\n",
      "2022-12-06  0.8965  0.9214  0.9117  0.9176  25489220.1\n",
      "2022-12-07  0.8707  0.9198  0.9177  0.8978  37556021.2\n",
      "2022-12-08  0.8874  0.9301  0.8979  0.9278  29494131.3\n",
      "2022-12-09  0.9080  0.9346  0.9278  0.9097  21652345.5\n",
      "2022-12-10  0.9016  0.9101  0.9095  0.9064   5324477.7\n",
      "\n",
      "[109 rows x 5 columns]\n"
     ]
    }
   ],
   "source": [
    "print(rawTokenData)"
   ]
  }
 ],
 "metadata": {
  "kernelspec": {
   "display_name": "Python 3.9.13 ('base')",
   "language": "python",
   "name": "python3"
  },
  "language_info": {
   "codemirror_mode": {
    "name": "ipython",
    "version": 3
   },
   "file_extension": ".py",
   "mimetype": "text/x-python",
   "name": "python",
   "nbconvert_exporter": "python",
   "pygments_lexer": "ipython3",
   "version": "3.9.13"
  },
  "orig_nbformat": 4,
  "vscode": {
   "interpreter": {
    "hash": "e862235458dcc43ce60f6439dfba4578949053168f0a6b8272bc7c7b0264254d"
   }
  }
 },
 "nbformat": 4,
 "nbformat_minor": 2
}
