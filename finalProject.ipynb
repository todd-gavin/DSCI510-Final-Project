{
 "cells": [
  {
   "cell_type": "markdown",
   "metadata": {},
   "source": [
    "- Leaving the account is deemed as a sell\n",
    "- Entering the account is deemed as a buy\n",
    "\n",
    "Volume of transactions in one day compared to the magnitude of price difference from MATIC token price."
   ]
  },
  {
   "cell_type": "code",
   "execution_count": 27,
   "metadata": {},
   "outputs": [],
   "source": [
    "from Historic_Crypto import HistoricalData as HD\n",
    "import pandas as pd\n",
    "import requests\n",
    "import json\n",
    "from datetime import datetime"
   ]
  },
  {
   "cell_type": "markdown",
   "metadata": {},
   "source": [
    "\n",
    "# Argument ---\t   Description\n",
    "- ticker ---\t       supply the ticker information which you want to return (str).\n",
    "- granularity ---\t   please supply a granularity in seconds (60, 300, 900, 3600, 21600, 86400) (int).\n",
    "- start_date ---\t   a string in the format YYYY-MM-DD-HH-MM (str).\n",
    "- end_date ---\t   a string in the format YYYY-MM-DD-HH-MM (str). Optional, Default: Now\n",
    "- verbose ---\t       printing during extraction. Default: True"
   ]
  },
  {
   "cell_type": "code",
   "execution_count": 42,
   "metadata": {},
   "outputs": [],
   "source": [
    "def etherScanAPICall():\n",
    "    API_KEY = 'JATAZ8XWIBGBTY15YJJEABCDPIF8SCK7S3'\n",
    "    MATIC_CONTRACT_ADDRESS = '0x7D1AfA7B718fb893dB30A3aBc0Cfc608AaCfeBB0'\n",
    "    WALLET_ADDRESS = '0x9507c04b10486547584c37bcbd931b2a4fee9a41'\n",
    "    url = 'https://api.etherscan.io/api?'\n",
    "\n",
    "    parameters = {\n",
    "        'module':'account',\n",
    "        'action':'tokentx',\n",
    "        'contractaddress':MATIC_CONTRACT_ADDRESS,\n",
    "        'address':WALLET_ADDRESS,\n",
    "        'page':'1',\n",
    "        'offset':'10000',\n",
    "        'startblock':'0',\n",
    "        'endblock':'27025780',\n",
    "        'sort':'asc',\n",
    "        'apikey':API_KEY\n",
    "    }\n",
    "\n",
    "    responseJSON = requests.request(\"GET\", url, params=parameters).json()\n",
    "\n",
    "    with open(\"response.json\", \"w\") as write_file:\n",
    "        json.dump(responseJSON, write_file, indent=4, sort_keys = True)\n",
    "\n",
    "    return responseJSON\n"
   ]
  },
  {
   "cell_type": "code",
   "execution_count": 43,
   "metadata": {},
   "outputs": [],
   "source": [
    "transactionData = etherScanAPICall()"
   ]
  },
  {
   "cell_type": "code",
   "execution_count": 44,
   "metadata": {},
   "outputs": [],
   "source": [
    "def cryptoHistoricalData(token, startDate, endDate):\n",
    "    data = HD(token,86400,startDate,endDate).retrieve_data()\n",
    "    data.to_csv('dataframe.csv')"
   ]
  },
  {
   "cell_type": "code",
   "execution_count": 45,
   "metadata": {},
   "outputs": [
    {
     "name": "stdout",
     "output_type": "stream",
     "text": [
      "Checking input parameters are in the correct format.\n",
      "Formatting Dates.\n",
      "Checking if user supplied is available on the CoinBase Pro API.\n",
      "Connected to the CoinBase Pro API.\n",
      "Ticker 'MATIC-USD' found at the CoinBase Pro API, continuing to extraction.\n",
      "Retrieved Data from Coinbase Pro API.\n",
      "Returning data.\n"
     ]
    }
   ],
   "source": [
    "cryptoHistoricalData('MATIC-USD','2022-11-01-00-00','2022-12-01-00-00')"
   ]
  },
  {
   "cell_type": "code",
   "execution_count": 46,
   "metadata": {},
   "outputs": [],
   "source": [
    "# if you encounter a \"year is out of range\" error the timestamp\n",
    "# may be in milliseconds, try `ts /= 1000` in that case\n",
    "def convert_UNIX_to_DateTime(unix):\n",
    "    return datetime.utcfromtimestamp(int(unix)).strftime('%Y-%m-%d %H:%M:%S') # returns type str"
   ]
  },
  {
   "cell_type": "code",
   "execution_count": 47,
   "metadata": {},
   "outputs": [
    {
     "data": {
      "text/plain": [
       "'2022-08-24 14:07:07'"
      ]
     },
     "execution_count": 47,
     "metadata": {},
     "output_type": "execute_result"
    }
   ],
   "source": [
    "convert_UNIX_to_DateTime(1661350027)\n",
    "# print(type(convert_UNIX_to_DateTime(1661350027)))"
   ]
  },
  {
   "cell_type": "code",
   "execution_count": 58,
   "metadata": {},
   "outputs": [
    {
     "name": "stdout",
     "output_type": "stream",
     "text": [
      "58\n",
      "{'2022-08-24': 2, '2022-09-23': 69, '2022-09-24': 48, '2022-09-25': 40, '2022-09-26': 96, '2022-09-27': 34, '2022-09-28': 3, '2022-09-29': 19, '2022-09-30': 103, '2022-10-01': 9, '2022-10-02': 26, '2022-10-03': 60, '2022-10-04': 69, '2022-10-05': 4, '2022-10-07': 3, '2022-10-08': 27, '2022-10-10': 1, '2022-10-12': 2, '2022-10-18': 1, '2022-10-21': 19, '2022-10-22': 24, '2022-10-23': 29, '2022-10-24': 28, '2022-10-25': 63, '2022-10-26': 49, '2022-10-27': 51, '2022-10-28': 46, '2022-10-29': 56, '2022-10-30': 71, '2022-10-31': 44, '2022-11-01': 29, '2022-11-02': 87, '2022-11-03': 116, '2022-11-04': 162, '2022-11-05': 110, '2022-11-06': 73, '2022-11-07': 88, '2022-11-08': 97, '2022-11-11': 37, '2022-11-12': 5, '2022-11-14': 48, '2022-11-15': 13, '2022-11-16': 20, '2022-11-17': 30, '2022-11-18': 2, '2022-11-19': 8, '2022-11-20': 23, '2022-11-21': 1, '2022-11-23': 21, '2022-11-24': 61, '2022-11-25': 34, '2022-11-26': 14, '2022-11-27': 15, '2022-11-28': 7, '2022-11-29': 15, '2022-11-30': 50, '2022-12-01': 108, '2022-12-02': 6}\n"
     ]
    }
   ],
   "source": [
    "dailyTransactionVolume = {}\n",
    "\n",
    "for transaction in transactionData.get('result'):\n",
    "    timeStamp = convert_UNIX_to_DateTime(transaction.get(\"timeStamp\"))\n",
    "    timeStamp = timeStamp[0:10]\n",
    "    if (timeStamp in dailyTransactionVolume):\n",
    "        # print(dailyTransactionVolume.get(timeStamp))\n",
    "        cnt = dailyTransactionVolume.get(timeStamp) + 1\n",
    "        dailyTransactionVolume[timeStamp] = cnt\n",
    "    else:\n",
    "        dailyTransactionVolume[timeStamp] = 1\n",
    "\n",
    "print(len(dailyTransactionVolume))\n",
    "print(dailyTransactionVolume)"
   ]
  }
 ],
 "metadata": {
  "kernelspec": {
   "display_name": "Python 3.9.13 ('base')",
   "language": "python",
   "name": "python3"
  },
  "language_info": {
   "codemirror_mode": {
    "name": "ipython",
    "version": 3
   },
   "file_extension": ".py",
   "mimetype": "text/x-python",
   "name": "python",
   "nbconvert_exporter": "python",
   "pygments_lexer": "ipython3",
   "version": "3.9.13"
  },
  "orig_nbformat": 4,
  "vscode": {
   "interpreter": {
    "hash": "e862235458dcc43ce60f6439dfba4578949053168f0a6b8272bc7c7b0264254d"
   }
  }
 },
 "nbformat": 4,
 "nbformat_minor": 2
}
