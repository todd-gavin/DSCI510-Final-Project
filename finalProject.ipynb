{
 "cells": [
  {
   "cell_type": "markdown",
   "metadata": {},
   "source": [
    "- Leaving the account is deemed as a sell\n",
    "- Entering the account is deemed as a buy\n",
    "\n",
    "Volume of transactions in one day compared to the magnitude of price difference from MATIC token price."
   ]
  },
  {
   "cell_type": "code",
   "execution_count": 14,
   "metadata": {},
   "outputs": [],
   "source": [
    "from Historic_Crypto import HistoricalData as HD"
   ]
  },
  {
   "cell_type": "markdown",
   "metadata": {},
   "source": [
    "\n",
    "# Argument ---\t   Description\n",
    "- ticker ---\t       supply the ticker information which you want to return (str).\n",
    "- granularity ---\t   please supply a granularity in seconds (60, 300, 900, 3600, 21600, 86400) (int).\n",
    "- start_date ---\t   a string in the format YYYY-MM-DD-HH-MM (str).\n",
    "- end_date ---\t   a string in the format YYYY-MM-DD-HH-MM (str). Optional, Default: Now\n",
    "- verbose ---\t       printing during extraction. Default: True"
   ]
  },
  {
   "cell_type": "code",
   "execution_count": 16,
   "metadata": {},
   "outputs": [
    {
     "name": "stdout",
     "output_type": "stream",
     "text": [
      "Checking input parameters are in the correct format.\n",
      "Formatting Dates.\n",
      "Checking if user supplied is available on the CoinBase Pro API.\n",
      "Connected to the CoinBase Pro API.\n",
      "Ticker 'MATIC-USD' found at the CoinBase Pro API, continuing to extraction.\n",
      "Retrieved Data from Coinbase Pro API.\n",
      "Returning data.\n"
     ]
    }
   ],
   "source": [
    "new = HD('MATIC-USD',86400,'2022-11-01-00-00','2022-12-01-00-00').retrieve_data()"
   ]
  },
  {
   "cell_type": "code",
   "execution_count": 17,
   "metadata": {},
   "outputs": [
    {
     "name": "stdout",
     "output_type": "stream",
     "text": [
      "               low    high    open   close       volume\n",
      "time                                                   \n",
      "2022-11-01  0.8730  0.9096  0.9028  0.8740   21563877.8\n",
      "2022-11-02  0.8364  0.8970  0.8740  0.8735   53435758.3\n",
      "2022-11-03  0.8684  0.9912  0.8736  0.9511   77211789.1\n",
      "2022-11-04  0.9503  1.1984  0.9509  1.1692  115621165.7\n",
      "2022-11-05  1.1526  1.3042  1.1694  1.1847   74108030.5\n",
      "2022-11-06  1.1311  1.2152  1.1850  1.1350   50837298.9\n",
      "2022-11-07  1.1288  1.2918  1.1345  1.2572   82450932.3\n",
      "2022-11-08  0.9000  1.2750  1.2573  1.0447  154787851.7\n",
      "2022-11-09  0.7610  1.0717  1.0442  0.8152  158005227.9\n",
      "2022-11-10  0.8004  1.1574  0.8152  1.1213  154965739.5\n",
      "2022-11-11  0.9671  1.1565  1.1209  1.0624  104878297.1\n",
      "2022-11-12  0.9240  1.0653  1.0626  0.9379   71584140.8\n",
      "2022-11-13  0.8641  0.9668  0.9380  0.8883   60329732.0\n",
      "2022-11-14  0.8308  0.9641  0.8886  0.9164   77098800.7\n",
      "2022-11-15  0.9058  0.9726  0.9170  0.9409   58748589.9\n",
      "2022-11-16  0.8780  0.9551  0.9409  0.8970   48368306.9\n",
      "2022-11-17  0.8610  0.9115  0.8974  0.8732   46018567.6\n",
      "2022-11-18  0.8669  0.8993  0.8730  0.8783   31240474.9\n",
      "2022-11-19  0.8487  0.8826  0.8783  0.8753   24949704.5\n",
      "2022-11-20  0.7983  0.8806  0.8752  0.8058   41184594.7\n",
      "2022-11-21  0.7633  0.8204  0.8058  0.7953   53919069.8\n",
      "2022-11-22  0.7775  0.8659  0.7953  0.8502   66460644.7\n",
      "2022-11-23  0.8354  0.8721  0.8504  0.8607   46994493.9\n",
      "2022-11-24  0.8412  0.8905  0.8607  0.8482   36270103.7\n",
      "2022-11-25  0.8188  0.8491  0.8483  0.8436   23960885.1\n",
      "2022-11-26  0.8382  0.8712  0.8439  0.8459   21987508.9\n",
      "2022-11-27  0.8402  0.8655  0.8460  0.8435   22478308.9\n",
      "2022-11-28  0.8036  0.8486  0.8433  0.8209   37928981.3\n",
      "2022-11-29  0.8129  0.8497  0.8213  0.8382   22869382.6\n",
      "2022-11-30  0.8369  0.9446  0.8383  0.9330   69784755.8\n",
      "2022-12-01  0.9057  0.9454  0.9331  0.9107   56805498.2\n",
      "<class 'pandas.core.frame.DataFrame'>\n"
     ]
    }
   ],
   "source": [
    "print(new)\n",
    "print(type(new))\n",
    "\n",
    "new.to_csv('dataframe.csv')"
   ]
  }
 ],
 "metadata": {
  "kernelspec": {
   "display_name": "Python 3.9.13 ('base')",
   "language": "python",
   "name": "python3"
  },
  "language_info": {
   "codemirror_mode": {
    "name": "ipython",
    "version": 3
   },
   "file_extension": ".py",
   "mimetype": "text/x-python",
   "name": "python",
   "nbconvert_exporter": "python",
   "pygments_lexer": "ipython3",
   "version": "3.9.13"
  },
  "orig_nbformat": 4,
  "vscode": {
   "interpreter": {
    "hash": "e862235458dcc43ce60f6439dfba4578949053168f0a6b8272bc7c7b0264254d"
   }
  }
 },
 "nbformat": 4,
 "nbformat_minor": 2
}
